{
  "nbformat": 4,
  "nbformat_minor": 0,
  "metadata": {
    "kernelspec": {
      "display_name": "Python 3",
      "language": "python",
      "name": "python3"
    },
    "language_info": {
      "codemirror_mode": {
        "name": "ipython",
        "version": 3
      },
      "file_extension": ".py",
      "mimetype": "text/x-python",
      "name": "python",
      "nbconvert_exporter": "python",
      "pygments_lexer": "ipython3",
      "version": "3.8.5"
    },
    "colab": {
      "name": "NetworkModeling.ipynb",
      "provenance": [],
      "toc_visible": true,
      "include_colab_link": true
    },
    "accelerator": "GPU"
  },
  "cells": [
    {
      "cell_type": "markdown",
      "metadata": {
        "id": "view-in-github",
        "colab_type": "text"
      },
      "source": [
        "<a href=\"https://colab.research.google.com/github/tanmaylaud/network-model-python/blob/master/NetworkModeling_GPU_experiments.ipynb\" target=\"_parent\"><img src=\"https://colab.research.google.com/assets/colab-badge.svg\" alt=\"Open In Colab\"/></a>"
      ]
    },
    {
      "cell_type": "markdown",
      "metadata": {
        "id": "8PuNm_M5afBr",
        "colab_type": "text"
      },
      "source": [
        "# Network Modeling with SEIRS+ Notebook "
      ]
    },
    {
      "cell_type": "code",
      "metadata": {
        "id": "KGHFANhwl4zP",
        "colab_type": "code",
        "colab": {
          "base_uri": "https://localhost:8080/",
          "height": 358
        },
        "outputId": "f7a4f213-e0e5-4101-f112-a9b633cdc541"
      },
      "source": [
        "# check gpu type\n",
        "!nvidia-smi\n",
        "\n",
        "import pynvml\n",
        "\n",
        "pynvml.nvmlInit()\n",
        "handle = pynvml.nvmlDeviceGetHandleByIndex(0)\n",
        "device_name = pynvml.nvmlDeviceGetName(handle)\n",
        "\n",
        "# your dolphin is broken, please reset & try again\n",
        "if device_name != b'Tesla T4':\n",
        "  raise Exception(\"\"\"Unfortunately this instance does not have a T4 GPU.\n",
        "\n",
        "    Please make sure you've configured Colab to request a GPU instance type.\n",
        "\n",
        "    Sometimes Colab allocates a Tesla K80 instead of a T4. Resetting the instance.\n",
        "\n",
        "    If you get a K80 GPU, try Runtime -> Reset all runtimes...\"\"\")\n",
        "\n",
        "# got a T4, good to go \n",
        "else:\n",
        "  print('Woo! You got the right kind of GPU!')"
      ],
      "execution_count": 2,
      "outputs": [
        {
          "output_type": "stream",
          "text": [
            "Sun Sep 20 17:42:35 2020       \n",
            "+-----------------------------------------------------------------------------+\n",
            "| NVIDIA-SMI 450.66       Driver Version: 418.67       CUDA Version: 10.1     |\n",
            "|-------------------------------+----------------------+----------------------+\n",
            "| GPU  Name        Persistence-M| Bus-Id        Disp.A | Volatile Uncorr. ECC |\n",
            "| Fan  Temp  Perf  Pwr:Usage/Cap|         Memory-Usage | GPU-Util  Compute M. |\n",
            "|                               |                      |               MIG M. |\n",
            "|===============================+======================+======================|\n",
            "|   0  Tesla T4            Off  | 00000000:00:04.0 Off |                    0 |\n",
            "| N/A   60C    P8    11W /  70W |      0MiB / 15079MiB |      0%      Default |\n",
            "|                               |                      |                 ERR! |\n",
            "+-------------------------------+----------------------+----------------------+\n",
            "                                                                               \n",
            "+-----------------------------------------------------------------------------+\n",
            "| Processes:                                                                  |\n",
            "|  GPU   GI   CI        PID   Type   Process name                  GPU Memory |\n",
            "|        ID   ID                                                   Usage      |\n",
            "|=============================================================================|\n",
            "|  No running processes found                                                 |\n",
            "+-----------------------------------------------------------------------------+\n",
            "Woo! You got the right kind of GPU!\n"
          ],
          "name": "stdout"
        }
      ]
    },
    {
      "cell_type": "code",
      "metadata": {
        "id": "ocmlvtq_nlov",
        "colab_type": "code",
        "colab": {}
      },
      "source": [
        ""
      ],
      "execution_count": null,
      "outputs": []
    },
    {
      "cell_type": "markdown",
      "metadata": {
        "id": "zpZ-eFMFnmGd",
        "colab_type": "text"
      },
      "source": [
        "In order, this script will:\n",
        "Install most recent Miniconda release compatible with Google Colab’s Python install (3.6.7)\n",
        "Remove any incompatible files\n",
        "Install RAPIDS libraries (cuDF, cuML cuGraph & cuSpatial)\n",
        "Sets necessary environment variables\n",
        "Copy RAPIDS .so files into current working directory, a workaround for conda/colab interactions"
      ]
    },
    {
      "cell_type": "code",
      "metadata": {
        "id": "pY_QhgBmnKEk",
        "colab_type": "code",
        "colab": {}
      },
      "source": [
        "# Install RAPIDS\n",
        "!git clone https://github.com/rapidsai/rapidsai-csp-utils.git\n",
        "!bash rapidsai-csp-utils/colab/rapids-colab.sh stable\n",
        "\n",
        "import sys, os\n",
        "\n",
        "dist_package_index = sys.path.index('/usr/local/lib/python3.6/dist-packages')\n",
        "sys.path = sys.path[:dist_package_index] + ['/usr/local/lib/python3.6/site-packages'] + sys.path[dist_package_index:]\n",
        "sys.path\n",
        "exec(open('rapidsai-csp-utils/colab/update_modules.py').read(), globals())"
      ],
      "execution_count": null,
      "outputs": []
    },
    {
      "cell_type": "code",
      "metadata": {
        "id": "xOekCCXDagoY",
        "colab_type": "code",
        "colab": {
          "base_uri": "https://localhost:8080/",
          "height": 378
        },
        "outputId": "6a4070b4-56e4-4edb-de82-1dc3e4ac7810"
      },
      "source": [
        "!pip install networkx seirsplus\n",
        "!git clone https://github.com/tanmaylaud/network-model-python.git"
      ],
      "execution_count": 5,
      "outputs": [
        {
          "output_type": "stream",
          "text": [
            "Requirement already satisfied: networkx in /usr/local/lib/python3.6/dist-packages (2.5)\n",
            "Collecting seirsplus\n",
            "\u001b[?25l  Downloading https://files.pythonhosted.org/packages/7a/82/dc5444f0e02a7035aa0a8d1f64218373c415f54d0335ad47f0b991c6ba72/seirsplus-1.0.9.tar.gz (64kB)\n",
            "\u001b[K     |████████████████████████████████| 71kB 3.2MB/s \n",
            "\u001b[?25hRequirement already satisfied: decorator>=4.3.0 in /usr/local/lib/python3.6/dist-packages (from networkx) (4.4.2)\n",
            "Requirement already satisfied: numpy in /usr/local/lib/python3.6/dist-packages (from seirsplus) (1.18.5)\n",
            "Requirement already satisfied: scipy in /usr/local/lib/python3.6/dist-packages (from seirsplus) (1.4.1)\n",
            "Building wheels for collected packages: seirsplus\n",
            "  Building wheel for seirsplus (setup.py) ... \u001b[?25l\u001b[?25hdone\n",
            "  Created wheel for seirsplus: filename=seirsplus-1.0.9-cp36-none-any.whl size=64634 sha256=3d7f1ef1992c58c1ee61cca41f3bd0aaffba3dd998bbeb945f32fa711a8b2f61\n",
            "  Stored in directory: /root/.cache/pip/wheels/f0/83/18/7b9b20364e2740f54c21cf5b3ebfde5a8a93071e098782c705\n",
            "Successfully built seirsplus\n",
            "Installing collected packages: seirsplus\n",
            "Successfully installed seirsplus-1.0.9\n",
            "Cloning into 'network-model-python'...\n",
            "remote: Enumerating objects: 26, done.\u001b[K\n",
            "remote: Counting objects: 100% (26/26), done.\u001b[K\n",
            "remote: Compressing objects: 100% (20/20), done.\u001b[K\n",
            "remote: Total 600 (delta 12), reused 9 (delta 6), pack-reused 574\u001b[K\n",
            "Receiving objects: 100% (600/600), 33.67 MiB | 30.00 MiB/s, done.\n",
            "Resolving deltas: 100% (242/242), done.\n"
          ],
          "name": "stdout"
        }
      ]
    },
    {
      "cell_type": "code",
      "metadata": {
        "id": "ma6bFoV1a4ti",
        "colab_type": "code",
        "colab": {}
      },
      "source": [
        "!cp -r ./network-model-python/* ./"
      ],
      "execution_count": 9,
      "outputs": []
    },
    {
      "cell_type": "code",
      "metadata": {
        "id": "SpzduKIuafB3",
        "colab_type": "code",
        "colab": {
          "base_uri": "https://localhost:8080/",
          "height": 50
        },
        "outputId": "8e8be9d0-eb50-4069-9399-d8131f494a32"
      },
      "source": [
        "%load_ext autoreload\n",
        "%autoreload 2\n",
        "import networkx as nx\n",
        "import pandas as pd\n",
        "import numpy as np\n",
        "import matplotlib.pyplot as plt\n",
        "from scipy.stats import poisson\n",
        "from seirsplus_gpu.models import *\n",
        "from seirsplus_gpu.networks import *\n",
        "from seirsplus.sim_loops import *\n",
        "from seirsplus.utilities import *\n",
        "from network_utils import *\n",
        "from stats_utils import *\n",
        "from intervention_utils import *\n",
        "from camp_params import *\n",
        "import pickle as pkl"
      ],
      "execution_count": 60,
      "outputs": [
        {
          "output_type": "stream",
          "text": [
            "The autoreload extension is already loaded. To reload it, use:\n",
            "  %reload_ext autoreload\n"
          ],
          "name": "stdout"
        }
      ]
    },
    {
      "cell_type": "code",
      "metadata": {
        "id": "AGqSJRanafCY",
        "colab_type": "code",
        "colab": {}
      },
      "source": [
        "n_pop = 18700\n",
        "\n",
        "# Grid info for isoboxes\n",
        "dims_isoboxes = (29, 28)  # 812\n",
        "\n",
        "# Grid info for tents\n",
        "dims_block1 = (20, 67)  # 1340\n",
        "dims_block2 = (53, 15)  # 795\n",
        "dims_block3 = (19, 28)  # 532\n",
        "\n",
        "# Isoboxes\n",
        "pop_isoboxes = 8100\n",
        "pop_per_isobox = 10\n",
        "n_isoboxes = dims_isoboxes[0]*dims_isoboxes[1]\n",
        "\n",
        "# Tents\n",
        "n_tents = 2650\n",
        "pop_tents = 10600\n",
        "pop_per_tent = 4\n",
        "\n",
        "# Others \n",
        "n_bathrooms = 144\n",
        "n_ethnic_groups = 8\n",
        "\n",
        "# We define neighboring structures within a range of 2 in the structure grid\n",
        "proximity = 2\n",
        "\n",
        "# Define the maximum population per structures (tents and isoboxes) drawn from a poisson distribution\n",
        "max_pop_per_struct = list(poisson.rvs(mu=pop_per_isobox, size=n_isoboxes))\n",
        "max_pop_per_struct = max_pop_per_struct + list(poisson.rvs(mu=pop_per_tent, size=dims_block1[0]*dims_block1[1]))\n",
        "max_pop_per_struct = max_pop_per_struct + list(poisson.rvs(mu=pop_per_tent, size=dims_block2[0]*dims_block2[1]))\n",
        "max_pop_per_struct = max_pop_per_struct + list(poisson.rvs(mu=pop_per_tent, size=dims_block3[0]*dims_block3[1]))\n",
        "\n",
        "n_structs = len(max_pop_per_struct)\n",
        "\n",
        "# Sample the population age, and parameter rates\n",
        "sample_pop = sample_population(n_pop, \"data/augmented_population.csv\")"
      ],
      "execution_count": 43,
      "outputs": []
    },
    {
      "cell_type": "markdown",
      "metadata": {
        "id": "3fx6TVHsafCp",
        "colab_type": "text"
      },
      "source": [
        "### 1) Load base graph for Moria"
      ]
    },
    {
      "cell_type": "code",
      "metadata": {
        "id": "vV_7zBFaafCq",
        "colab_type": "code",
        "colab": {}
      },
      "source": [
        "graph, nodes_per_struct = load_graph(\"Moria_wNeighbors\")"
      ],
      "execution_count": 44,
      "outputs": []
    },
    {
      "cell_type": "code",
      "metadata": {
        "id": "WO3f6B6rafD5",
        "colab_type": "code",
        "colab": {
          "base_uri": "https://localhost:8080/",
          "height": 196
        },
        "outputId": "36e40548-2364-45ac-f506-20d206663977"
      },
      "source": [
        "graph, nodes_per_struct[:10]"
      ],
      "execution_count": 45,
      "outputs": [
        {
          "output_type": "execute_result",
          "data": {
            "text/plain": [
              "(<networkx.classes.graph.Graph at 0x7f471d372630>,\n",
              " [[5359, 6786, 11341, 12772, 16439, 17362],\n",
              "  [1725, 4150, 9846, 10264, 10775, 16305, 18271],\n",
              "  [3525, 5466, 9174, 10999, 13126, 14208, 16274, 17424, 18010],\n",
              "  [3937, 9445, 15445, 15446],\n",
              "  [2944, 7910, 10523, 12494, 16665],\n",
              "  [5339, 10767, 12726, 15207, 17421, 18315, 18410],\n",
              "  [2373, 7673, 9205, 16819],\n",
              "  [587, 2395, 2953, 4030, 8569, 10641, 12194, 14204, 14656],\n",
              "  [810, 1805, 5202, 5204, 8552, 12428, 12654, 13949, 14363],\n",
              "  [584, 4073, 9224, 14603, 18566]])"
            ]
          },
          "metadata": {
            "tags": []
          },
          "execution_count": 45
        }
      ]
    },
    {
      "cell_type": "markdown",
      "metadata": {
        "id": "rT5-hDKZafEL",
        "colab_type": "text"
      },
      "source": [
        "#### 1.1) We will add a general food queue which represents the current state of the camp"
      ]
    },
    {
      "cell_type": "code",
      "metadata": {
        "id": "Mvj4AKBrafEX",
        "colab_type": "code",
        "colab": {}
      },
      "source": [
        "food_weight = 0.407\n",
        "graph_1fq = connect_food_queue(graph, nodes_per_struct, food_weight, \"food\")"
      ],
      "execution_count": 46,
      "outputs": []
    },
    {
      "cell_type": "code",
      "metadata": {
        "id": "4QgEzK8AutZt",
        "colab_type": "code",
        "colab": {}
      },
      "source": [
        ""
      ],
      "execution_count": 46,
      "outputs": []
    },
    {
      "cell_type": "markdown",
      "metadata": {
        "id": "H98TQFDgafE8",
        "colab_type": "text"
      },
      "source": [
        "### 2) Plot the basic network degrees"
      ]
    },
    {
      "cell_type": "code",
      "metadata": {
        "tags": [],
        "id": "6n80EynqafFD",
        "colab_type": "code",
        "colab": {
          "base_uri": "https://localhost:8080/",
          "height": 295
        },
        "outputId": "fac5312b-6ca7-4b20-aab4-384d823e21e2"
      },
      "source": [
        "# Degrees without food queue, just neighbors\n",
        "min_G, max_G = min_degree(graph), max_degree(graph)\n",
        "print(\"Min degree:\", min_G, \"Max degree:\", max_G)\n",
        "plot_degree_distn2(graph, max_degree=max_G)"
      ],
      "execution_count": 53,
      "outputs": [
        {
          "output_type": "stream",
          "text": [
            "Min degree: 0 Max degree: 187\n"
          ],
          "name": "stdout"
        },
        {
          "output_type": "display_data",
          "data": {
            "image/png": "[encoded data removed]",
            "text/plain": [
              "<Figure size 432x288 with 1 Axes>"
            ]
          },
          "metadata": {
            "tags": []
          }
        }
      ]
    },
    {
      "cell_type": "code",
      "metadata": {
        "tags": [],
        "id": "54NH-t96afFO",
        "colab_type": "code",
        "colab": {
          "base_uri": "https://localhost:8080/",
          "height": 295
        },
        "outputId": "e2aa03fe-c40f-42f1-d59a-96ed461335fe"
      },
      "source": [
        "# Degrees with 1 food queue\n",
        "min_G, max_G = min_degree(graph_1fq), max_degree(graph_1fq)\n",
        "print(\"Min degree:\", min_G, \"Max degree:\", max_G)\n",
        "plot_degree_distn2(graph_1fq, max_degree=max_G)"
      ],
      "execution_count": 54,
      "outputs": [
        {
          "output_type": "stream",
          "text": [
            "Min degree: 0 Max degree: 197\n"
          ],
          "name": "stdout"
        },
        {
          "output_type": "display_data",
          "data": {
            "image/png": "[encoded data removed]",
            "text/plain": [
              "<Figure size 432x288 with 1 Axes>"
            ]
          },
          "metadata": {
            "tags": []
          }
        }
      ]
    },
    {
      "cell_type": "markdown",
      "metadata": {
        "id": "CxV1IBG6afGE",
        "colab_type": "text"
      },
      "source": [
        "### 3) Create node groups of 10 year age bucket to track the results"
      ]
    },
    {
      "cell_type": "code",
      "metadata": {
        "id": "Y7ky3cTaafGG",
        "colab_type": "code",
        "colab": {}
      },
      "source": [
        "node_groups=create_node_groups(graph)"
      ],
      "execution_count": 55,
      "outputs": []
    },
    {
      "cell_type": "markdown",
      "metadata": {
        "id": "VNu-l_s3afGQ",
        "colab_type": "text"
      },
      "source": [
        "### 4) Define SEIRS model parameters"
      ]
    },
    {
      "cell_type": "code",
      "metadata": {
        "id": "ZIF47vpjafGR",
        "colab_type": "code",
        "colab": {}
      },
      "source": [
        "transmission_rate = 1.28\n",
        "progression_rate = round(1/5.1, 3)\n",
        "recovery_rate = 0.056 # Approx 1/18 -> Recovery occurs after 18 days\n",
        "hosp_rate = round(1/11.4, 3) #1/6.3 # From Tucker Model\n",
        "# crit_rate = 0.3 # From camp_params\n",
        "crit_rate = list((sample_pop[\"death_rate\"] / sample_pop[\"prob_symptomatic\"]) / sample_pop[\"prob_hospitalisation\"])\n",
        "death_rate = 0.75\n",
        "\n",
        "prob_global_contact = 0.2\n",
        "prob_quarantine_global_contact = 1\n",
        "\n",
        "# prob_hosp_to_critical = list(sample_pop[\"death_rate\"]/sample_pop[\"prob_hospitalisation\"])\n",
        "prob_death = list(sample_pop[\"death_rate\"])\n",
        "prob_asymptomatic = list(1 - sample_pop[\"prob_symptomatic\"])\n",
        "prob_symp_to_hosp = list(sample_pop[\"prob_hospitalisation\"])\n",
        "\n",
        "init_symp_cases = 1\n",
        "init_asymp_cases = 1"
      ],
      "execution_count": 56,
      "outputs": []
    },
    {
      "cell_type": "code",
      "metadata": {
        "id": "3lKBEGHNxOxG",
        "colab_type": "code",
        "colab": {}
      },
      "source": [
        "g = cu.Graph()\n",
        "g."
      ],
      "execution_count": 62,
      "outputs": []
    },
    {
      "cell_type": "markdown",
      "metadata": {
        "id": "8VSDn_KCafGz",
        "colab_type": "text"
      },
      "source": [
        "### 5) Running the base model"
      ]
    },
    {
      "cell_type": "code",
      "metadata": {
        "id": "Xflc6OJtafG2",
        "colab_type": "code",
        "colab": {
          "base_uri": "https://localhost:8080/",
          "height": 345
        },
        "outputId": "89e91f28-5cd9-4825-8f65-4cd04128afc6"
      },
      "source": [
        "# Model construction\n",
        "ref_model = ExtSEIRSNetworkModel3(G=graph_1fq, p=prob_global_contact, beta=transmission_rate, sigma=progression_rate, gamma=recovery_rate, lamda=progression_rate, mu_H=crit_rate, eta=hosp_rate, a=prob_asymptomatic, f=death_rate, h=prob_symp_to_hosp, initI_sym=init_symp_cases, initI_asym=init_asymp_cases, store_Xseries=True)"
      ],
      "execution_count": 61,
      "outputs": [
        {
          "output_type": "error",
          "ename": "AttributeError",
          "evalue": "ignored",
          "traceback": [
            "\u001b[0;31m---------------------------------------------------------------------------\u001b[0m",
            "\u001b[0;31mAttributeError\u001b[0m                            Traceback (most recent call last)",
            "\u001b[0;32m<ipython-input-61-575d948b007a>\u001b[0m in \u001b[0;36m<module>\u001b[0;34m()\u001b[0m\n\u001b[1;32m      1\u001b[0m \u001b[0;31m# Model construction\u001b[0m\u001b[0;34m\u001b[0m\u001b[0;34m\u001b[0m\u001b[0;34m\u001b[0m\u001b[0m\n\u001b[0;32m----> 2\u001b[0;31m \u001b[0mref_model\u001b[0m \u001b[0;34m=\u001b[0m \u001b[0mExtSEIRSNetworkModel3\u001b[0m\u001b[0;34m(\u001b[0m\u001b[0mG\u001b[0m\u001b[0;34m=\u001b[0m\u001b[0mgraph_1fq\u001b[0m\u001b[0;34m,\u001b[0m \u001b[0mp\u001b[0m\u001b[0;34m=\u001b[0m\u001b[0mprob_global_contact\u001b[0m\u001b[0;34m,\u001b[0m \u001b[0mbeta\u001b[0m\u001b[0;34m=\u001b[0m\u001b[0mtransmission_rate\u001b[0m\u001b[0;34m,\u001b[0m \u001b[0msigma\u001b[0m\u001b[0;34m=\u001b[0m\u001b[0mprogression_rate\u001b[0m\u001b[0;34m,\u001b[0m \u001b[0mgamma\u001b[0m\u001b[0;34m=\u001b[0m\u001b[0mrecovery_rate\u001b[0m\u001b[0;34m,\u001b[0m \u001b[0mlamda\u001b[0m\u001b[0;34m=\u001b[0m\u001b[0mprogression_rate\u001b[0m\u001b[0;34m,\u001b[0m \u001b[0mmu_H\u001b[0m\u001b[0;34m=\u001b[0m\u001b[0mcrit_rate\u001b[0m\u001b[0;34m,\u001b[0m \u001b[0meta\u001b[0m\u001b[0;34m=\u001b[0m\u001b[0mhosp_rate\u001b[0m\u001b[0;34m,\u001b[0m \u001b[0ma\u001b[0m\u001b[0;34m=\u001b[0m\u001b[0mprob_asymptomatic\u001b[0m\u001b[0;34m,\u001b[0m \u001b[0mf\u001b[0m\u001b[0;34m=\u001b[0m\u001b[0mdeath_rate\u001b[0m\u001b[0;34m,\u001b[0m \u001b[0mh\u001b[0m\u001b[0;34m=\u001b[0m\u001b[0mprob_symp_to_hosp\u001b[0m\u001b[0;34m,\u001b[0m \u001b[0minitI_sym\u001b[0m\u001b[0;34m=\u001b[0m\u001b[0minit_symp_cases\u001b[0m\u001b[0;34m,\u001b[0m \u001b[0minitI_asym\u001b[0m\u001b[0;34m=\u001b[0m\u001b[0minit_asymp_cases\u001b[0m\u001b[0;34m,\u001b[0m \u001b[0mstore_Xseries\u001b[0m\u001b[0;34m=\u001b[0m\u001b[0;32mTrue\u001b[0m\u001b[0;34m)\u001b[0m\u001b[0;34m\u001b[0m\u001b[0;34m\u001b[0m\u001b[0m\n\u001b[0m",
            "\u001b[0;32m/content/seirsplus_gpu/models.py\u001b[0m in \u001b[0;36m__init__\u001b[0;34m(self, G, beta, sigma, lamda, gamma, gamma_asym, eta, gamma_H, mu_H, alpha, xi, mu_0, nu, a, h, f, p, beta_local, beta_asym, beta_asym_local, beta_pairwise_mode, delta, delta_pairwise_mode, G_Q, beta_Q, beta_Q_local, sigma_Q, lamda_Q, eta_Q, gamma_Q_sym, gamma_Q_asym, alpha_Q, delta_Q, theta_S, theta_E, theta_pre, theta_sym, theta_asym, phi_S, phi_E, phi_pre, phi_sym, phi_asym, psi_S, psi_E, psi_pre, psi_sym, psi_asym, q, isolation_time, initE, initI_pre, initI_sym, initI_asym, initH, initR, initF, initQ_S, initQ_E, initQ_pre, initQ_sym, initQ_asym, initQ_R, o, prevalence_ext, transition_mode, node_groups, store_Xseries, seed)\u001b[0m\n\u001b[1;32m   1761\u001b[0m                             \u001b[0;34m'initQ_sym'\u001b[0m\u001b[0;34m:\u001b[0m\u001b[0minitQ_sym\u001b[0m\u001b[0;34m,\u001b[0m \u001b[0;34m'initQ_asym'\u001b[0m\u001b[0;34m:\u001b[0m\u001b[0minitQ_asym\u001b[0m\u001b[0;34m,\u001b[0m \u001b[0;34m'initQ_R'\u001b[0m\u001b[0;34m:\u001b[0m\u001b[0minitQ_R\u001b[0m\u001b[0;34m,\u001b[0m\u001b[0;34m\u001b[0m\u001b[0;34m\u001b[0m\u001b[0m\n\u001b[1;32m   1762\u001b[0m                             'o':o, 'prevalence_ext':prevalence_ext}\n\u001b[0;32m-> 1763\u001b[0;31m         \u001b[0mself\u001b[0m\u001b[0;34m.\u001b[0m\u001b[0mupdate_parameters\u001b[0m\u001b[0;34m(\u001b[0m\u001b[0;34m)\u001b[0m\u001b[0;34m\u001b[0m\u001b[0;34m\u001b[0m\u001b[0m\n\u001b[0m\u001b[1;32m   1764\u001b[0m \u001b[0;34m\u001b[0m\u001b[0m\n\u001b[1;32m   1765\u001b[0m         \u001b[0;31m#~~~~~~~~~~~~~~~~~~~~~~~~~~~~~~~~~~~~~~~~\u001b[0m\u001b[0;34m\u001b[0m\u001b[0;34m\u001b[0m\u001b[0;34m\u001b[0m\u001b[0m\n",
            "\u001b[0;32m/content/seirsplus_gpu/models.py\u001b[0m in \u001b[0;36mupdate_parameters\u001b[0;34m(self)\u001b[0m\n\u001b[1;32m   1943\u001b[0m         \u001b[0;31m# Adjacency matrix:\u001b[0m\u001b[0;34m\u001b[0m\u001b[0;34m\u001b[0m\u001b[0;34m\u001b[0m\u001b[0m\n\u001b[1;32m   1944\u001b[0m \u001b[0;34m\u001b[0m\u001b[0m\n\u001b[0;32m-> 1945\u001b[0;31m         \u001b[0mself\u001b[0m\u001b[0;34m.\u001b[0m\u001b[0mA\u001b[0m \u001b[0;34m=\u001b[0m \u001b[0mnetworkx\u001b[0m\u001b[0;34m.\u001b[0m\u001b[0madj_matrix\u001b[0m\u001b[0;34m(\u001b[0m\u001b[0mself\u001b[0m\u001b[0;34m.\u001b[0m\u001b[0mG\u001b[0m\u001b[0;34m)\u001b[0m \u001b[0;31m# adj_matrix gives scipy.sparse csr_matrix\u001b[0m\u001b[0;34m\u001b[0m\u001b[0;34m\u001b[0m\u001b[0m\n\u001b[0m\u001b[1;32m   1946\u001b[0m         \u001b[0mself\u001b[0m\u001b[0;34m.\u001b[0m\u001b[0mnumNodes\u001b[0m   \u001b[0;34m=\u001b[0m \u001b[0mint\u001b[0m\u001b[0;34m(\u001b[0m\u001b[0mself\u001b[0m\u001b[0;34m.\u001b[0m\u001b[0mA\u001b[0m\u001b[0;34m.\u001b[0m\u001b[0mshape\u001b[0m\u001b[0;34m[\u001b[0m\u001b[0;36m1\u001b[0m\u001b[0;34m]\u001b[0m\u001b[0;34m)\u001b[0m\u001b[0;34m\u001b[0m\u001b[0;34m\u001b[0m\u001b[0m\n\u001b[1;32m   1947\u001b[0m         \u001b[0mself\u001b[0m\u001b[0;34m.\u001b[0m\u001b[0mdegree\u001b[0m     \u001b[0;34m=\u001b[0m \u001b[0mnumpy\u001b[0m\u001b[0;34m.\u001b[0m\u001b[0masarray\u001b[0m\u001b[0;34m(\u001b[0m\u001b[0mself\u001b[0m\u001b[0;34m.\u001b[0m\u001b[0mnode_degrees\u001b[0m\u001b[0;34m(\u001b[0m\u001b[0mself\u001b[0m\u001b[0;34m.\u001b[0m\u001b[0mA\u001b[0m\u001b[0;34m)\u001b[0m\u001b[0;34m)\u001b[0m\u001b[0;34m.\u001b[0m\u001b[0mastype\u001b[0m\u001b[0;34m(\u001b[0m\u001b[0mfloat\u001b[0m\u001b[0;34m)\u001b[0m\u001b[0;34m\u001b[0m\u001b[0;34m\u001b[0m\u001b[0m\n",
            "\u001b[0;31mAttributeError\u001b[0m: module 'cugraph' has no attribute 'adj_matrix'"
          ]
        }
      ]
    },
    {
      "cell_type": "code",
      "metadata": {
        "tags": [],
        "id": "tMZQ4tA_afHM",
        "colab_type": "code",
        "colab": {
          "base_uri": "https://localhost:8080/",
          "height": 361
        },
        "outputId": "52a273c5-6753-4cd3-8377-5dfbf3e1c30a"
      },
      "source": [
        "t_steps = 100\n",
        "node_states, simulation_results = run_simulation(ref_model, t_steps)"
      ],
      "execution_count": 33,
      "outputs": [
        {
          "output_type": "stream",
          "text": [
            "\r  0%|          | 0/100 [00:00<?, ?it/s]"
          ],
          "name": "stderr"
        },
        {
          "output_type": "stream",
          "text": [
            "Running simulation for 100 steps...\n",
            "\n"
          ],
          "name": "stdout"
        },
        {
          "output_type": "stream",
          "text": [
            " 63%|██████▎   | 63/100 [12:43<07:28, 12.12s/it]\n"
          ],
          "name": "stderr"
        },
        {
          "output_type": "error",
          "ename": "KeyboardInterrupt",
          "evalue": "ignored",
          "traceback": [
            "\u001b[0;31m---------------------------------------------------------------------------\u001b[0m",
            "\u001b[0;31mKeyboardInterrupt\u001b[0m                         Traceback (most recent call last)",
            "\u001b[0;32m<ipython-input-33-e87c334d07c5>\u001b[0m in \u001b[0;36m<module>\u001b[0;34m()\u001b[0m\n\u001b[1;32m      1\u001b[0m \u001b[0mt_steps\u001b[0m \u001b[0;34m=\u001b[0m \u001b[0;36m100\u001b[0m\u001b[0;34m\u001b[0m\u001b[0;34m\u001b[0m\u001b[0m\n\u001b[0;32m----> 2\u001b[0;31m \u001b[0mnode_states\u001b[0m\u001b[0;34m,\u001b[0m \u001b[0msimulation_results\u001b[0m \u001b[0;34m=\u001b[0m \u001b[0mrun_simulation\u001b[0m\u001b[0;34m(\u001b[0m\u001b[0mref_model\u001b[0m\u001b[0;34m,\u001b[0m \u001b[0mt_steps\u001b[0m\u001b[0;34m)\u001b[0m\u001b[0;34m\u001b[0m\u001b[0;34m\u001b[0m\u001b[0m\n\u001b[0m",
            "\u001b[0;32m/content/network_utils.py\u001b[0m in \u001b[0;36mrun_simulation\u001b[0;34m(model, t, checkpoints, simulation_results, nodes_states, print_info, store_every)\u001b[0m\n\u001b[1;32m    307\u001b[0m \u001b[0;34m\u001b[0m\u001b[0m\n\u001b[1;32m    308\u001b[0m     \u001b[0;32mfor\u001b[0m \u001b[0mi\u001b[0m \u001b[0;32min\u001b[0m \u001b[0mtqdm\u001b[0m\u001b[0;34m(\u001b[0m\u001b[0mrange\u001b[0m\u001b[0;34m(\u001b[0m\u001b[0;36m1\u001b[0m\u001b[0;34m,\u001b[0m \u001b[0mt\u001b[0m \u001b[0;34m+\u001b[0m \u001b[0;36m1\u001b[0m\u001b[0;34m)\u001b[0m\u001b[0;34m)\u001b[0m\u001b[0;34m:\u001b[0m\u001b[0;34m\u001b[0m\u001b[0;34m\u001b[0m\u001b[0m\n\u001b[0;32m--> 309\u001b[0;31m         \u001b[0mmodel\u001b[0m\u001b[0;34m.\u001b[0m\u001b[0mrun\u001b[0m\u001b[0;34m(\u001b[0m\u001b[0mT\u001b[0m\u001b[0;34m=\u001b[0m\u001b[0;36m1\u001b[0m\u001b[0;34m,\u001b[0m \u001b[0mverbose\u001b[0m\u001b[0;34m=\u001b[0m\u001b[0mprint_info\u001b[0m\u001b[0;34m,\u001b[0m \u001b[0mcheckpoints\u001b[0m\u001b[0;34m=\u001b[0m\u001b[0mcheckpoints\u001b[0m\u001b[0;34m)\u001b[0m\u001b[0;34m\u001b[0m\u001b[0;34m\u001b[0m\u001b[0m\n\u001b[0m\u001b[1;32m    310\u001b[0m \u001b[0;34m\u001b[0m\u001b[0m\n\u001b[1;32m    311\u001b[0m         \u001b[0;32mif\u001b[0m \u001b[0mi\u001b[0m \u001b[0;34m%\u001b[0m \u001b[0mstore_every\u001b[0m \u001b[0;34m==\u001b[0m \u001b[0;36m0\u001b[0m\u001b[0;34m:\u001b[0m\u001b[0;34m\u001b[0m\u001b[0;34m\u001b[0m\u001b[0m\n",
            "\u001b[0;32m/usr/local/lib/python3.6/dist-packages/seirsplus/models.py\u001b[0m in \u001b[0;36mrun\u001b[0;34m(self, T, checkpoints, print_interval, verbose)\u001b[0m\n\u001b[1;32m   2767\u001b[0m         \u001b[0;32mwhile\u001b[0m \u001b[0mrunning\u001b[0m\u001b[0;34m:\u001b[0m\u001b[0;34m\u001b[0m\u001b[0;34m\u001b[0m\u001b[0m\n\u001b[1;32m   2768\u001b[0m \u001b[0;34m\u001b[0m\u001b[0m\n\u001b[0;32m-> 2769\u001b[0;31m             \u001b[0mrunning\u001b[0m \u001b[0;34m=\u001b[0m \u001b[0mself\u001b[0m\u001b[0;34m.\u001b[0m\u001b[0mrun_iteration\u001b[0m\u001b[0;34m(\u001b[0m\u001b[0;34m)\u001b[0m\u001b[0;34m\u001b[0m\u001b[0;34m\u001b[0m\u001b[0m\n\u001b[0m\u001b[1;32m   2770\u001b[0m \u001b[0;34m\u001b[0m\u001b[0m\n\u001b[1;32m   2771\u001b[0m             \u001b[0;31m#~~~~~~~~~~~~~~~~~~~~~~~~~~~~~~~~~~~~~~~~\u001b[0m\u001b[0;34m\u001b[0m\u001b[0;34m\u001b[0m\u001b[0;34m\u001b[0m\u001b[0m\n",
            "\u001b[0;32m/usr/local/lib/python3.6/dist-packages/seirsplus/models.py\u001b[0m in \u001b[0;36mrun_iteration\u001b[0;34m(self)\u001b[0m\n\u001b[1;32m   2686\u001b[0m         \u001b[0mself\u001b[0m\u001b[0;34m.\u001b[0m\u001b[0mnumPositive\u001b[0m\u001b[0;34m[\u001b[0m\u001b[0mself\u001b[0m\u001b[0;34m.\u001b[0m\u001b[0mtidx\u001b[0m\u001b[0;34m]\u001b[0m \u001b[0;34m=\u001b[0m \u001b[0mnumpy\u001b[0m\u001b[0;34m.\u001b[0m\u001b[0mclip\u001b[0m\u001b[0;34m(\u001b[0m\u001b[0mnumpy\u001b[0m\u001b[0;34m.\u001b[0m\u001b[0mcount_nonzero\u001b[0m\u001b[0;34m(\u001b[0m\u001b[0mself\u001b[0m\u001b[0;34m.\u001b[0m\u001b[0mpositive\u001b[0m\u001b[0;34m)\u001b[0m\u001b[0;34m,\u001b[0m \u001b[0ma_min\u001b[0m\u001b[0;34m=\u001b[0m\u001b[0;36m0\u001b[0m\u001b[0;34m,\u001b[0m \u001b[0ma_max\u001b[0m\u001b[0;34m=\u001b[0m\u001b[0mself\u001b[0m\u001b[0;34m.\u001b[0m\u001b[0mnumNodes\u001b[0m\u001b[0;34m)\u001b[0m\u001b[0;34m\u001b[0m\u001b[0;34m\u001b[0m\u001b[0m\n\u001b[1;32m   2687\u001b[0m \u001b[0;34m\u001b[0m\u001b[0m\n\u001b[0;32m-> 2688\u001b[0;31m         \u001b[0mself\u001b[0m\u001b[0;34m.\u001b[0m\u001b[0mN\u001b[0m\u001b[0;34m[\u001b[0m\u001b[0mself\u001b[0m\u001b[0;34m.\u001b[0m\u001b[0mtidx\u001b[0m\u001b[0;34m]\u001b[0m           \u001b[0;34m=\u001b[0m \u001b[0mnumpy\u001b[0m\u001b[0;34m.\u001b[0m\u001b[0mclip\u001b[0m\u001b[0;34m(\u001b[0m\u001b[0;34m(\u001b[0m\u001b[0mself\u001b[0m\u001b[0;34m.\u001b[0m\u001b[0mnumNodes\u001b[0m \u001b[0;34m-\u001b[0m \u001b[0mself\u001b[0m\u001b[0;34m.\u001b[0m\u001b[0mnumF\u001b[0m\u001b[0;34m[\u001b[0m\u001b[0mself\u001b[0m\u001b[0;34m.\u001b[0m\u001b[0mtidx\u001b[0m\u001b[0;34m]\u001b[0m\u001b[0;34m)\u001b[0m\u001b[0;34m,\u001b[0m \u001b[0ma_min\u001b[0m\u001b[0;34m=\u001b[0m\u001b[0;36m0\u001b[0m\u001b[0;34m,\u001b[0m \u001b[0ma_max\u001b[0m\u001b[0;34m=\u001b[0m\u001b[0mself\u001b[0m\u001b[0;34m.\u001b[0m\u001b[0mnumNodes\u001b[0m\u001b[0;34m)\u001b[0m\u001b[0;34m\u001b[0m\u001b[0;34m\u001b[0m\u001b[0m\n\u001b[0m\u001b[1;32m   2689\u001b[0m \u001b[0;34m\u001b[0m\u001b[0m\n\u001b[1;32m   2690\u001b[0m         \u001b[0;31m#~~~~~~~~~~~~~~~~~~~~~~~~~~~~~~~~~~~~~~~~\u001b[0m\u001b[0;34m\u001b[0m\u001b[0;34m\u001b[0m\u001b[0;34m\u001b[0m\u001b[0m\n",
            "\u001b[0;31mKeyboardInterrupt\u001b[0m: "
          ]
        }
      ]
    },
    {
      "cell_type": "code",
      "metadata": {
        "id": "ivl0vDv8afHi",
        "colab_type": "code",
        "colab": {}
      },
      "source": [
        "# Model name for storage + store the model params in csv\n",
        "i = 0  # This is a number assigned to identify a particular network\n",
        "param_combo_i = 0  # This is a number assigned to identify a particular combination of parameters\n",
        "fig_name = f\"BaseSympModel{i}_{param_combo_i}\"\n",
        "add_model_name(\"experiments/model_names.csv\", fig_name, household_weight, neighbor_weight, food_weight, transmission_rate, recovery_rate, progression_rate, hosp_rate, round(sum(crit_rate)/len(crit_rate), 3), death_rate, init_symp_cases, init_asymp_cases, t_steps)"
      ],
      "execution_count": null,
      "outputs": []
    },
    {
      "cell_type": "code",
      "metadata": {
        "id": "h-Pt2fyIafHo",
        "colab_type": "code",
        "colab": {}
      },
      "source": [
        "#here we set up a parallel computing to run experiments in parallel and aggregate the results"
      ],
      "execution_count": null,
      "outputs": []
    },
    {
      "cell_type": "code",
      "metadata": {
        "id": "0UL8NbNBafHz",
        "colab_type": "code",
        "colab": {}
      },
      "source": [
        "# Construct results dataframe\n",
        "output_df = results_to_df(simulation_results, store=True, store_name=f\"experiments/results/{fig_name}.csv\")"
      ],
      "execution_count": null,
      "outputs": []
    },
    {
      "cell_type": "code",
      "metadata": {
        "id": "kR8MdRLPafIx",
        "colab_type": "code",
        "colab": {},
        "outputId": "7002a0c7-a198-48d1-d92a-ce277e9b192c"
      },
      "source": [
        "output_df"
      ],
      "execution_count": null,
      "outputs": [
        {
          "output_type": "execute_result",
          "data": {
            "text/html": [
              "<div>\n",
              "<style scoped>\n",
              "    .dataframe tbody tr th:only-of-type {\n",
              "        vertical-align: middle;\n",
              "    }\n",
              "\n",
              "    .dataframe tbody tr th {\n",
              "        vertical-align: top;\n",
              "    }\n",
              "\n",
              "    .dataframe thead th {\n",
              "        text-align: right;\n",
              "    }\n",
              "</style>\n",
              "<table border=\"1\" class=\"dataframe\">\n",
              "  <thead>\n",
              "    <tr style=\"text-align: right;\">\n",
              "      <th></th>\n",
              "      <th>Susceptible</th>\n",
              "      <th>Exposed</th>\n",
              "      <th>Infected_Presymptomatic</th>\n",
              "      <th>Infected_Symptomatic</th>\n",
              "      <th>Infected_Asymptomatic</th>\n",
              "      <th>Hospitalized</th>\n",
              "      <th>Recovered</th>\n",
              "      <th>Fatalities</th>\n",
              "      <th>Detected_Presymptomatic</th>\n",
              "      <th>Detected_Symptomatic</th>\n",
              "      <th>Detected_Asymptomatic</th>\n",
              "      <th>T_index</th>\n",
              "      <th>Time</th>\n",
              "    </tr>\n",
              "  </thead>\n",
              "  <tbody>\n",
              "    <tr>\n",
              "      <th>0</th>\n",
              "      <td>18696.0</td>\n",
              "      <td>3.0</td>\n",
              "      <td>0.0</td>\n",
              "      <td>1.0</td>\n",
              "      <td>0.0</td>\n",
              "      <td>0.0</td>\n",
              "      <td>0.0</td>\n",
              "      <td>0.0</td>\n",
              "      <td>0.0</td>\n",
              "      <td>0.0</td>\n",
              "      <td>0.0</td>\n",
              "      <td>3</td>\n",
              "      <td>1</td>\n",
              "    </tr>\n",
              "    <tr>\n",
              "      <th>1</th>\n",
              "      <td>18695.0</td>\n",
              "      <td>4.0</td>\n",
              "      <td>0.0</td>\n",
              "      <td>1.0</td>\n",
              "      <td>0.0</td>\n",
              "      <td>0.0</td>\n",
              "      <td>0.0</td>\n",
              "      <td>0.0</td>\n",
              "      <td>0.0</td>\n",
              "      <td>0.0</td>\n",
              "      <td>0.0</td>\n",
              "      <td>4</td>\n",
              "      <td>2</td>\n",
              "    </tr>\n",
              "    <tr>\n",
              "      <th>2</th>\n",
              "      <td>18694.0</td>\n",
              "      <td>5.0</td>\n",
              "      <td>0.0</td>\n",
              "      <td>0.0</td>\n",
              "      <td>0.0</td>\n",
              "      <td>0.0</td>\n",
              "      <td>1.0</td>\n",
              "      <td>0.0</td>\n",
              "      <td>0.0</td>\n",
              "      <td>0.0</td>\n",
              "      <td>0.0</td>\n",
              "      <td>6</td>\n",
              "      <td>3</td>\n",
              "    </tr>\n",
              "    <tr>\n",
              "      <th>3</th>\n",
              "      <td>18694.0</td>\n",
              "      <td>4.0</td>\n",
              "      <td>1.0</td>\n",
              "      <td>0.0</td>\n",
              "      <td>0.0</td>\n",
              "      <td>0.0</td>\n",
              "      <td>1.0</td>\n",
              "      <td>0.0</td>\n",
              "      <td>0.0</td>\n",
              "      <td>0.0</td>\n",
              "      <td>0.0</td>\n",
              "      <td>7</td>\n",
              "      <td>4</td>\n",
              "    </tr>\n",
              "    <tr>\n",
              "      <th>4</th>\n",
              "      <td>18693.0</td>\n",
              "      <td>5.0</td>\n",
              "      <td>1.0</td>\n",
              "      <td>0.0</td>\n",
              "      <td>0.0</td>\n",
              "      <td>0.0</td>\n",
              "      <td>1.0</td>\n",
              "      <td>0.0</td>\n",
              "      <td>0.0</td>\n",
              "      <td>0.0</td>\n",
              "      <td>0.0</td>\n",
              "      <td>8</td>\n",
              "      <td>5</td>\n",
              "    </tr>\n",
              "    <tr>\n",
              "      <th>...</th>\n",
              "      <td>...</td>\n",
              "      <td>...</td>\n",
              "      <td>...</td>\n",
              "      <td>...</td>\n",
              "      <td>...</td>\n",
              "      <td>...</td>\n",
              "      <td>...</td>\n",
              "      <td>...</td>\n",
              "      <td>...</td>\n",
              "      <td>...</td>\n",
              "      <td>...</td>\n",
              "      <td>...</td>\n",
              "      <td>...</td>\n",
              "    </tr>\n",
              "    <tr>\n",
              "      <th>195</th>\n",
              "      <td>0.0</td>\n",
              "      <td>0.0</td>\n",
              "      <td>0.0</td>\n",
              "      <td>0.0</td>\n",
              "      <td>0.0</td>\n",
              "      <td>0.0</td>\n",
              "      <td>18048.0</td>\n",
              "      <td>652.0</td>\n",
              "      <td>0.0</td>\n",
              "      <td>0.0</td>\n",
              "      <td>0.0</td>\n",
              "      <td>75476</td>\n",
              "      <td>196</td>\n",
              "    </tr>\n",
              "    <tr>\n",
              "      <th>196</th>\n",
              "      <td>0.0</td>\n",
              "      <td>0.0</td>\n",
              "      <td>0.0</td>\n",
              "      <td>0.0</td>\n",
              "      <td>0.0</td>\n",
              "      <td>0.0</td>\n",
              "      <td>18048.0</td>\n",
              "      <td>652.0</td>\n",
              "      <td>0.0</td>\n",
              "      <td>0.0</td>\n",
              "      <td>0.0</td>\n",
              "      <td>75476</td>\n",
              "      <td>197</td>\n",
              "    </tr>\n",
              "    <tr>\n",
              "      <th>197</th>\n",
              "      <td>0.0</td>\n",
              "      <td>0.0</td>\n",
              "      <td>0.0</td>\n",
              "      <td>0.0</td>\n",
              "      <td>0.0</td>\n",
              "      <td>0.0</td>\n",
              "      <td>18048.0</td>\n",
              "      <td>652.0</td>\n",
              "      <td>0.0</td>\n",
              "      <td>0.0</td>\n",
              "      <td>0.0</td>\n",
              "      <td>75476</td>\n",
              "      <td>198</td>\n",
              "    </tr>\n",
              "    <tr>\n",
              "      <th>198</th>\n",
              "      <td>0.0</td>\n",
              "      <td>0.0</td>\n",
              "      <td>0.0</td>\n",
              "      <td>0.0</td>\n",
              "      <td>0.0</td>\n",
              "      <td>0.0</td>\n",
              "      <td>18048.0</td>\n",
              "      <td>652.0</td>\n",
              "      <td>0.0</td>\n",
              "      <td>0.0</td>\n",
              "      <td>0.0</td>\n",
              "      <td>75476</td>\n",
              "      <td>199</td>\n",
              "    </tr>\n",
              "    <tr>\n",
              "      <th>199</th>\n",
              "      <td>0.0</td>\n",
              "      <td>0.0</td>\n",
              "      <td>0.0</td>\n",
              "      <td>0.0</td>\n",
              "      <td>0.0</td>\n",
              "      <td>0.0</td>\n",
              "      <td>18048.0</td>\n",
              "      <td>652.0</td>\n",
              "      <td>0.0</td>\n",
              "      <td>0.0</td>\n",
              "      <td>0.0</td>\n",
              "      <td>75476</td>\n",
              "      <td>200</td>\n",
              "    </tr>\n",
              "  </tbody>\n",
              "</table>\n",
              "<p>200 rows × 13 columns</p>\n",
              "</div>"
            ],
            "text/plain": [
              "     Susceptible  Exposed  Infected_Presymptomatic  Infected_Symptomatic  \\\n",
              "0        18696.0      3.0                      0.0                   1.0   \n",
              "1        18695.0      4.0                      0.0                   1.0   \n",
              "2        18694.0      5.0                      0.0                   0.0   \n",
              "3        18694.0      4.0                      1.0                   0.0   \n",
              "4        18693.0      5.0                      1.0                   0.0   \n",
              "..           ...      ...                      ...                   ...   \n",
              "195          0.0      0.0                      0.0                   0.0   \n",
              "196          0.0      0.0                      0.0                   0.0   \n",
              "197          0.0      0.0                      0.0                   0.0   \n",
              "198          0.0      0.0                      0.0                   0.0   \n",
              "199          0.0      0.0                      0.0                   0.0   \n",
              "\n",
              "     Infected_Asymptomatic  Hospitalized  Recovered  Fatalities  \\\n",
              "0                      0.0           0.0        0.0         0.0   \n",
              "1                      0.0           0.0        0.0         0.0   \n",
              "2                      0.0           0.0        1.0         0.0   \n",
              "3                      0.0           0.0        1.0         0.0   \n",
              "4                      0.0           0.0        1.0         0.0   \n",
              "..                     ...           ...        ...         ...   \n",
              "195                    0.0           0.0    18048.0       652.0   \n",
              "196                    0.0           0.0    18048.0       652.0   \n",
              "197                    0.0           0.0    18048.0       652.0   \n",
              "198                    0.0           0.0    18048.0       652.0   \n",
              "199                    0.0           0.0    18048.0       652.0   \n",
              "\n",
              "     Detected_Presymptomatic  Detected_Symptomatic  Detected_Asymptomatic  \\\n",
              "0                        0.0                   0.0                    0.0   \n",
              "1                        0.0                   0.0                    0.0   \n",
              "2                        0.0                   0.0                    0.0   \n",
              "3                        0.0                   0.0                    0.0   \n",
              "4                        0.0                   0.0                    0.0   \n",
              "..                       ...                   ...                    ...   \n",
              "195                      0.0                   0.0                    0.0   \n",
              "196                      0.0                   0.0                    0.0   \n",
              "197                      0.0                   0.0                    0.0   \n",
              "198                      0.0                   0.0                    0.0   \n",
              "199                      0.0                   0.0                    0.0   \n",
              "\n",
              "     T_index  Time  \n",
              "0          3     1  \n",
              "1          4     2  \n",
              "2          6     3  \n",
              "3          7     4  \n",
              "4          8     5  \n",
              "..       ...   ...  \n",
              "195    75476   196  \n",
              "196    75476   197  \n",
              "197    75476   198  \n",
              "198    75476   199  \n",
              "199    75476   200  \n",
              "\n",
              "[200 rows x 13 columns]"
            ]
          },
          "metadata": {
            "tags": []
          },
          "execution_count": 14
        }
      ]
    },
    {
      "cell_type": "code",
      "metadata": {
        "id": "3Szq3-B5afI2",
        "colab_type": "code",
        "colab": {},
        "outputId": "46230aff-4b08-4b3c-c5b3-b028c4c95310"
      },
      "source": [
        "fig, ax = ref_model.figure_basic()#vlines=interventions.get_checkpoints()['t'])\n",
        "fig.savefig(f\"plots/{fig_name}_figBasic.png\")"
      ],
      "execution_count": null,
      "outputs": [
        {
          "output_type": "display_data",
          "data": {
            "image/png": "[encoded data removed]",
            "text/plain": [
              "<Figure size 864x576 with 1 Axes>"
            ]
          },
          "metadata": {
            "tags": []
          }
        }
      ]
    },
    {
      "cell_type": "markdown",
      "metadata": {
        "id": "fPSg-_4PafJG",
        "colab_type": "text"
      },
      "source": [
        "### 6) Define Interventions\n",
        "\n",
        "With the interventions module, we can create an intervention with just a time step and a custom network referring to that intervention, as well as remove/edit them from the list. The method get_checkpoints() will allow us to get the dictionary to be fed to the SEIRS+ model"
      ]
    },
    {
      "cell_type": "markdown",
      "metadata": {
        "id": "xlbrX4ehafJI",
        "colab_type": "text"
      },
      "source": [
        "#### 6.1) First, define the intervention graphs"
      ]
    },
    {
      "cell_type": "code",
      "metadata": {
        "id": "puvy2cOsafJJ",
        "colab_type": "code",
        "colab": {}
      },
      "source": [
        "# This is social distancing within the food queue \n",
        "distancing_graph = remove_edges_from_graph(graph_1fq, scale=10, edge_label_list=[\"food\"], min_num_edges=4)\n",
        "\n",
        "# This also includes neighbor/friendship edges\n",
        "quarantine_graph = remove_edges_from_graph(graph_1fq, scale=2, edge_label_list=[\"food\", \"friendship\"], min_num_edges=2)\n",
        "\n",
        "# Create graphs with multiple sectoring of food queues - in this case, 1 and 2 queues per each block (4 and 8 food queues respectively)\n",
        "graph_4fq = create_multiple_food_queues(graph, 1, food_weight, nodes_per_struct, [grid_isoboxes, grid_block1, grid_block2, grid_block3])\n",
        "graph_8fq = create_multiple_food_queues(graph, 2, food_weight, nodes_per_struct, [grid_isoboxes, grid_block1, grid_block2, grid_block3])\n",
        "\n",
        "# Create quarantine graphs for the sectored graphs\n",
        "quarantine_graph_4fq = remove_edges_from_graph(graph_4fq, scale=2, edge_label_list=[f\"food_{i}\" for i in range(4)] + [\"friendship\"], min_num_edges=2)\n",
        "quarantine_graph_8fq = remove_edges_from_graph(graph_8fq, scale=2, edge_label_list=[f\"food_{i}\" for i in range(8)] + [\"friendship\"], min_num_edges=2)"
      ],
      "execution_count": null,
      "outputs": []
    },
    {
      "cell_type": "code",
      "metadata": {
        "id": "3bhwzNaLafJj",
        "colab_type": "code",
        "colab": {},
        "outputId": "84c00abd-33fd-4927-c91b-a8790f029bd1"
      },
      "source": [
        "min_D, max_D = min_degree(distancing_graph), max_degree(distancing_graph)\n",
        "print(\"Min degree:\", min_D, \"Max degree:\", max_D)\n",
        "\n",
        "# As we can see, there isn't much of a difference when we only cut food-queue interactions, \n",
        "# which means we need a harder distancing policy\n",
        "plot_degree_distn(distancing_graph, max_degree=max_D)"
      ],
      "execution_count": null,
      "outputs": [
        {
          "output_type": "stream",
          "text": [
            "Min degree: 0 Max degree: 189\n"
          ],
          "name": "stdout"
        },
        {
          "output_type": "display_data",
          "data": {
            "image/png": "[encoded data removed]",
            "text/plain": [
              "<Figure size 432x288 with 1 Axes>"
            ]
          },
          "metadata": {
            "tags": []
          }
        }
      ]
    },
    {
      "cell_type": "code",
      "metadata": {
        "id": "tbbXs2weafJq",
        "colab_type": "code",
        "colab": {},
        "outputId": "a1efe817-5b27-4b7f-e0f5-09f6e97bd299"
      },
      "source": [
        "min_Q, max_Q = min_degree(quarantine_graph), max_degree(quarantine_graph)\n",
        "print(\"Min degree:\", min_Q, \"Max degree:\", max_Q)\n",
        "\n",
        "plot_degree_distn(quarantine_graph, max_degree=max_Q)"
      ],
      "execution_count": null,
      "outputs": [
        {
          "output_type": "stream",
          "text": [
            "Min degree: 0 Max degree: 18\n"
          ],
          "name": "stdout"
        },
        {
          "output_type": "display_data",
          "data": {
            "image/png": "[encoded data removed]",
            "text/plain": [
              "<Figure size 432x288 with 1 Axes>"
            ]
          },
          "metadata": {
            "tags": []
          }
        }
      ]
    },
    {
      "cell_type": "code",
      "metadata": {
        "id": "2xsigP6UafJ0",
        "colab_type": "code",
        "colab": {},
        "outputId": "07d371f4-d8ea-4762-8748-0de22ec1b9fc"
      },
      "source": [
        "# 4 food queues \n",
        "min_4fq, max_4fq = min_degree(graph_4fq), max_degree(graph_4fq)\n",
        "print(\"Min degree:\", min_4fq, \"Max degree:\", max_4fq)\n",
        "\n",
        "plot_degree_distn(quarantine_graph, max_degree=max_4fq)"
      ],
      "execution_count": null,
      "outputs": [
        {
          "output_type": "stream",
          "text": [
            "Min degree: 0 Max degree: 190\n"
          ],
          "name": "stdout"
        },
        {
          "output_type": "display_data",
          "data": {
            "image/png": "[encoded data removed]",
            "text/plain": [
              "<Figure size 432x288 with 1 Axes>"
            ]
          },
          "metadata": {
            "tags": []
          }
        }
      ]
    },
    {
      "cell_type": "code",
      "metadata": {
        "id": "mp2JRYsnafKV",
        "colab_type": "code",
        "colab": {},
        "outputId": "21bab0a0-fd1d-49dc-b22f-dbf12fb464a0"
      },
      "source": [
        "# 8 food queues\n",
        "min_8fq, max_8fq = min_degree(graph_8fq), max_degree(graph_8fq)\n",
        "print(\"Min degree:\", min_8fq, \"Max degree:\", max_8fq)\n",
        "\n",
        "plot_degree_distn(quarantine_graph, max_degree=max_8fq)"
      ],
      "execution_count": null,
      "outputs": [
        {
          "output_type": "stream",
          "text": [
            "Min degree: 0 Max degree: 187\n"
          ],
          "name": "stdout"
        },
        {
          "output_type": "display_data",
          "data": {
            "image/png": "[encoded data removed]",
            "text/plain": [
              "<Figure size 432x288 with 1 Axes>"
            ]
          },
          "metadata": {
            "tags": []
          }
        }
      ]
    },
    {
      "cell_type": "markdown",
      "metadata": {
        "id": "mRDEzON9afKe",
        "colab_type": "text"
      },
      "source": [
        "#### 6.2) Construct the checkpoints"
      ]
    },
    {
      "cell_type": "code",
      "metadata": {
        "id": "lMV9GcSwafKf",
        "colab_type": "code",
        "colab": {}
      },
      "source": [
        "interventions = Interventions()\n",
        "reduction_percentage = 0.5\n",
        "\n",
        "# Simulate quarantine + masks\n",
        "q_start = 0\n",
        "interventions.add(quarantine_graph, q_start, beta=transmission_rate*reduction_percentage)\n",
        "\n",
        "# Simulate HALT of quarantine but people still have to wear masks\n",
        "q_end = 150\n",
        "interventions.add(graph_1fq, q_end, beta=transmission_rate*reduction_percentage)\n",
        "\n",
        "# Simulate HALT of wearing masks\n",
        "m_end = 200\n",
        "interventions.add(graph_1fq, m_end, beta=transmission_rate)\n",
        "\n",
        "checkpoints = interventions.get_checkpoints()"
      ],
      "execution_count": null,
      "outputs": []
    },
    {
      "cell_type": "code",
      "metadata": {
        "id": "8lqpaNLvxMDO",
        "colab_type": "code",
        "colab": {}
      },
      "source": [
        ""
      ],
      "execution_count": null,
      "outputs": []
    },
    {
      "cell_type": "markdown",
      "metadata": {
        "id": "QvYeXVgoafKu",
        "colab_type": "text"
      },
      "source": [
        "### 7) Running the model with interventions"
      ]
    },
    {
      "cell_type": "code",
      "metadata": {
        "id": "xLCMNe6lafKz",
        "colab_type": "code",
        "colab": {}
      },
      "source": [
        "# Model construction with interventions on the model with 1 food queue\n",
        "interventions_model = ExtSEIRSNetworkModel(G=graph_1fq, Q=quarantine_graph, p=prob_global_contact, q=prob_quarantine_global_contact, beta=transmission_rate, sigma=progression_rate, gamma=recovery_rate, lamda=progression_rate, mu_H=crit_rate, eta=hosp_rate, a=prob_asymptomatic, f=death_rate, h=prob_symp_to_hosp, initI_sym=init_symp_cases, initI_asym=init_asymp_cases, store_Xseries=True)"
      ],
      "execution_count": null,
      "outputs": []
    },
    {
      "cell_type": "code",
      "metadata": {
        "id": "BMR-WskuafK4",
        "colab_type": "code",
        "colab": {},
        "outputId": "9b221596-c6d8-4227-c63a-8158fc2ac519"
      },
      "source": [
        "t_steps = 200\n",
        "intervention_node_states, intervention_results = run_simulation(interventions_model, t_steps, checkpoints)"
      ],
      "execution_count": null,
      "outputs": [
        {
          "output_type": "stream",
          "text": [
            "  0%|          | 0/200 [00:00<?, ?it/s]"
          ],
          "name": "stderr"
        },
        {
          "output_type": "stream",
          "text": [
            "Running simulation for 200 steps...\n",
            "\n"
          ],
          "name": "stdout"
        },
        {
          "output_type": "stream",
          "text": [
            "100%|██████████| 200/200 [30:25<00:00,  9.13s/it]  \n"
          ],
          "name": "stderr"
        }
      ]
    },
    {
      "cell_type": "code",
      "metadata": {
        "id": "L-B45MvIafK9",
        "colab_type": "code",
        "colab": {}
      },
      "source": [
        "# Model name for storage + store the model params in csv\n",
        "i, param_combo_i = 0, 0\n",
        "fig_name = f\"InterventionsBaseModel{i}_{param_combo_i}\"\n",
        "add_model_name(\"experiments/model_names.csv\", fig_name, household_weight, neighbor_weight, food_weight, transmission_rate, recovery_rate, progression_rate, hosp_rate, round(sum(crit_rate)/len(crit_rate), 3), death_rate, init_symp_cases, init_asymp_cases, t_steps, f\"{q_start}-{q_end}\", reduction_percentage, f\"{q_start}-{m_end}\")\n"
      ],
      "execution_count": null,
      "outputs": []
    },
    {
      "cell_type": "code",
      "metadata": {
        "id": "foqYRgbPafK_",
        "colab_type": "code",
        "colab": {}
      },
      "source": [
        "output_df = results_to_df(intervention_results, store=True, store_name=f\"experiments/results/{fig_name}.csv\")"
      ],
      "execution_count": null,
      "outputs": []
    },
    {
      "cell_type": "code",
      "metadata": {
        "id": "uL1glqGFafLD",
        "colab_type": "code",
        "colab": {},
        "outputId": "2608c7bb-cf1a-451b-fcf9-0f7f8b19e56c"
      },
      "source": [
        "output_df"
      ],
      "execution_count": null,
      "outputs": [
        {
          "output_type": "execute_result",
          "data": {
            "text/html": [
              "<div>\n",
              "<style scoped>\n",
              "    .dataframe tbody tr th:only-of-type {\n",
              "        vertical-align: middle;\n",
              "    }\n",
              "\n",
              "    .dataframe tbody tr th {\n",
              "        vertical-align: top;\n",
              "    }\n",
              "\n",
              "    .dataframe thead th {\n",
              "        text-align: right;\n",
              "    }\n",
              "</style>\n",
              "<table border=\"1\" class=\"dataframe\">\n",
              "  <thead>\n",
              "    <tr style=\"text-align: right;\">\n",
              "      <th></th>\n",
              "      <th>Susceptible</th>\n",
              "      <th>Exposed</th>\n",
              "      <th>Infected_Presymptomatic</th>\n",
              "      <th>Infected_Symptomatic</th>\n",
              "      <th>Infected_Asymptomatic</th>\n",
              "      <th>Hospitalized</th>\n",
              "      <th>Recovered</th>\n",
              "      <th>Fatalities</th>\n",
              "      <th>Detected_Presymptomatic</th>\n",
              "      <th>Detected_Symptomatic</th>\n",
              "      <th>Detected_Asymptomatic</th>\n",
              "      <th>T_index</th>\n",
              "      <th>Time</th>\n",
              "    </tr>\n",
              "  </thead>\n",
              "  <tbody>\n",
              "    <tr>\n",
              "      <th>0</th>\n",
              "      <td>18698.0</td>\n",
              "      <td>0.0</td>\n",
              "      <td>1.0</td>\n",
              "      <td>1.0</td>\n",
              "      <td>0.0</td>\n",
              "      <td>0.0</td>\n",
              "      <td>0.0</td>\n",
              "      <td>0.0</td>\n",
              "      <td>0.0</td>\n",
              "      <td>0.0</td>\n",
              "      <td>0.0</td>\n",
              "      <td>2</td>\n",
              "      <td>1</td>\n",
              "    </tr>\n",
              "    <tr>\n",
              "      <th>1</th>\n",
              "      <td>18697.0</td>\n",
              "      <td>1.0</td>\n",
              "      <td>1.0</td>\n",
              "      <td>1.0</td>\n",
              "      <td>0.0</td>\n",
              "      <td>0.0</td>\n",
              "      <td>0.0</td>\n",
              "      <td>0.0</td>\n",
              "      <td>0.0</td>\n",
              "      <td>0.0</td>\n",
              "      <td>0.0</td>\n",
              "      <td>3</td>\n",
              "      <td>2</td>\n",
              "    </tr>\n",
              "    <tr>\n",
              "      <th>2</th>\n",
              "      <td>18695.0</td>\n",
              "      <td>3.0</td>\n",
              "      <td>1.0</td>\n",
              "      <td>1.0</td>\n",
              "      <td>0.0</td>\n",
              "      <td>0.0</td>\n",
              "      <td>0.0</td>\n",
              "      <td>0.0</td>\n",
              "      <td>0.0</td>\n",
              "      <td>0.0</td>\n",
              "      <td>0.0</td>\n",
              "      <td>5</td>\n",
              "      <td>3</td>\n",
              "    </tr>\n",
              "    <tr>\n",
              "      <th>3</th>\n",
              "      <td>18694.0</td>\n",
              "      <td>3.0</td>\n",
              "      <td>1.0</td>\n",
              "      <td>1.0</td>\n",
              "      <td>1.0</td>\n",
              "      <td>0.0</td>\n",
              "      <td>0.0</td>\n",
              "      <td>0.0</td>\n",
              "      <td>0.0</td>\n",
              "      <td>0.0</td>\n",
              "      <td>0.0</td>\n",
              "      <td>8</td>\n",
              "      <td>4</td>\n",
              "    </tr>\n",
              "    <tr>\n",
              "      <th>4</th>\n",
              "      <td>18690.0</td>\n",
              "      <td>7.0</td>\n",
              "      <td>1.0</td>\n",
              "      <td>1.0</td>\n",
              "      <td>1.0</td>\n",
              "      <td>0.0</td>\n",
              "      <td>0.0</td>\n",
              "      <td>0.0</td>\n",
              "      <td>0.0</td>\n",
              "      <td>0.0</td>\n",
              "      <td>0.0</td>\n",
              "      <td>12</td>\n",
              "      <td>5</td>\n",
              "    </tr>\n",
              "    <tr>\n",
              "      <th>...</th>\n",
              "      <td>...</td>\n",
              "      <td>...</td>\n",
              "      <td>...</td>\n",
              "      <td>...</td>\n",
              "      <td>...</td>\n",
              "      <td>...</td>\n",
              "      <td>...</td>\n",
              "      <td>...</td>\n",
              "      <td>...</td>\n",
              "      <td>...</td>\n",
              "      <td>...</td>\n",
              "      <td>...</td>\n",
              "      <td>...</td>\n",
              "    </tr>\n",
              "    <tr>\n",
              "      <th>195</th>\n",
              "      <td>0.0</td>\n",
              "      <td>0.0</td>\n",
              "      <td>0.0</td>\n",
              "      <td>0.0</td>\n",
              "      <td>0.0</td>\n",
              "      <td>0.0</td>\n",
              "      <td>18012.0</td>\n",
              "      <td>688.0</td>\n",
              "      <td>0.0</td>\n",
              "      <td>0.0</td>\n",
              "      <td>0.0</td>\n",
              "      <td>75518</td>\n",
              "      <td>196</td>\n",
              "    </tr>\n",
              "    <tr>\n",
              "      <th>196</th>\n",
              "      <td>0.0</td>\n",
              "      <td>0.0</td>\n",
              "      <td>0.0</td>\n",
              "      <td>0.0</td>\n",
              "      <td>0.0</td>\n",
              "      <td>0.0</td>\n",
              "      <td>18012.0</td>\n",
              "      <td>688.0</td>\n",
              "      <td>0.0</td>\n",
              "      <td>0.0</td>\n",
              "      <td>0.0</td>\n",
              "      <td>75518</td>\n",
              "      <td>197</td>\n",
              "    </tr>\n",
              "    <tr>\n",
              "      <th>197</th>\n",
              "      <td>0.0</td>\n",
              "      <td>0.0</td>\n",
              "      <td>0.0</td>\n",
              "      <td>0.0</td>\n",
              "      <td>0.0</td>\n",
              "      <td>0.0</td>\n",
              "      <td>18012.0</td>\n",
              "      <td>688.0</td>\n",
              "      <td>0.0</td>\n",
              "      <td>0.0</td>\n",
              "      <td>0.0</td>\n",
              "      <td>75518</td>\n",
              "      <td>198</td>\n",
              "    </tr>\n",
              "    <tr>\n",
              "      <th>198</th>\n",
              "      <td>0.0</td>\n",
              "      <td>0.0</td>\n",
              "      <td>0.0</td>\n",
              "      <td>0.0</td>\n",
              "      <td>0.0</td>\n",
              "      <td>0.0</td>\n",
              "      <td>18012.0</td>\n",
              "      <td>688.0</td>\n",
              "      <td>0.0</td>\n",
              "      <td>0.0</td>\n",
              "      <td>0.0</td>\n",
              "      <td>75518</td>\n",
              "      <td>199</td>\n",
              "    </tr>\n",
              "    <tr>\n",
              "      <th>199</th>\n",
              "      <td>0.0</td>\n",
              "      <td>0.0</td>\n",
              "      <td>0.0</td>\n",
              "      <td>0.0</td>\n",
              "      <td>0.0</td>\n",
              "      <td>0.0</td>\n",
              "      <td>18012.0</td>\n",
              "      <td>688.0</td>\n",
              "      <td>0.0</td>\n",
              "      <td>0.0</td>\n",
              "      <td>0.0</td>\n",
              "      <td>75518</td>\n",
              "      <td>200</td>\n",
              "    </tr>\n",
              "  </tbody>\n",
              "</table>\n",
              "<p>200 rows × 13 columns</p>\n",
              "</div>"
            ],
            "text/plain": [
              "     Susceptible  Exposed  Infected_Presymptomatic  Infected_Symptomatic  \\\n",
              "0        18698.0      0.0                      1.0                   1.0   \n",
              "1        18697.0      1.0                      1.0                   1.0   \n",
              "2        18695.0      3.0                      1.0                   1.0   \n",
              "3        18694.0      3.0                      1.0                   1.0   \n",
              "4        18690.0      7.0                      1.0                   1.0   \n",
              "..           ...      ...                      ...                   ...   \n",
              "195          0.0      0.0                      0.0                   0.0   \n",
              "196          0.0      0.0                      0.0                   0.0   \n",
              "197          0.0      0.0                      0.0                   0.0   \n",
              "198          0.0      0.0                      0.0                   0.0   \n",
              "199          0.0      0.0                      0.0                   0.0   \n",
              "\n",
              "     Infected_Asymptomatic  Hospitalized  Recovered  Fatalities  \\\n",
              "0                      0.0           0.0        0.0         0.0   \n",
              "1                      0.0           0.0        0.0         0.0   \n",
              "2                      0.0           0.0        0.0         0.0   \n",
              "3                      1.0           0.0        0.0         0.0   \n",
              "4                      1.0           0.0        0.0         0.0   \n",
              "..                     ...           ...        ...         ...   \n",
              "195                    0.0           0.0    18012.0       688.0   \n",
              "196                    0.0           0.0    18012.0       688.0   \n",
              "197                    0.0           0.0    18012.0       688.0   \n",
              "198                    0.0           0.0    18012.0       688.0   \n",
              "199                    0.0           0.0    18012.0       688.0   \n",
              "\n",
              "     Detected_Presymptomatic  Detected_Symptomatic  Detected_Asymptomatic  \\\n",
              "0                        0.0                   0.0                    0.0   \n",
              "1                        0.0                   0.0                    0.0   \n",
              "2                        0.0                   0.0                    0.0   \n",
              "3                        0.0                   0.0                    0.0   \n",
              "4                        0.0                   0.0                    0.0   \n",
              "..                       ...                   ...                    ...   \n",
              "195                      0.0                   0.0                    0.0   \n",
              "196                      0.0                   0.0                    0.0   \n",
              "197                      0.0                   0.0                    0.0   \n",
              "198                      0.0                   0.0                    0.0   \n",
              "199                      0.0                   0.0                    0.0   \n",
              "\n",
              "     T_index  Time  \n",
              "0          2     1  \n",
              "1          3     2  \n",
              "2          5     3  \n",
              "3          8     4  \n",
              "4         12     5  \n",
              "..       ...   ...  \n",
              "195    75518   196  \n",
              "196    75518   197  \n",
              "197    75518   198  \n",
              "198    75518   199  \n",
              "199    75518   200  \n",
              "\n",
              "[200 rows x 13 columns]"
            ]
          },
          "metadata": {
            "tags": []
          },
          "execution_count": 26
        }
      ]
    },
    {
      "cell_type": "code",
      "metadata": {
        "id": "k-tIzQnOafLH",
        "colab_type": "code",
        "colab": {},
        "outputId": "954e8b60-ae5d-4df1-be20-f76829987e7c"
      },
      "source": [
        "fig, ax = interventions_model.figure_basic()#vlines=interventions.get_checkpoints()['t'])\n",
        "# fig.savefig(f\"plots/{fig_name}_figBasic.png\")"
      ],
      "execution_count": null,
      "outputs": [
        {
          "output_type": "display_data",
          "data": {
            "image/png": "[encoded data removed]",
            "text/plain": [
              "<Figure size 864x576 with 1 Axes>"
            ]
          },
          "metadata": {
            "tags": []
          }
        }
      ]
    },
    {
      "cell_type": "markdown",
      "metadata": {
        "id": "_bXVSHvyafLd",
        "colab_type": "text"
      },
      "source": [
        "#### 7.1) Running the base model with multiple food queues"
      ]
    },
    {
      "cell_type": "code",
      "metadata": {
        "id": "hQ912jILafLe",
        "colab_type": "code",
        "colab": {}
      },
      "source": [
        "# Model construction for multiple food queues but no more interventions\n",
        "model_4fq = ExtSEIRSNetworkModel(G=graph_4fq, p=prob_global_contact, beta=transmission_rate, sigma=progression_rate, gamma=recovery_rate, lamda=progression_rate, mu_H=crit_rate, eta=hosp_rate, a=prob_asymptomatic, f=death_rate, h=prob_symp_to_hosp, initI_sym=init_symp_cases, initI_asym=init_asymp_cases, store_Xseries=True)\n",
        "\n",
        "model_8fq = ExtSEIRSNetworkModel(G=graph_8fq, p=prob_global_contact, beta=transmission_rate, sigma=progression_rate, gamma=recovery_rate, lamda=progression_rate, mu_H=crit_rate, eta=hosp_rate, a=prob_asymptomatic, f=death_rate, h=prob_symp_to_hosp, initI_sym=init_symp_cases, initI_asym=init_asymp_cases, store_Xseries=True)"
      ],
      "execution_count": null,
      "outputs": []
    },
    {
      "cell_type": "code",
      "metadata": {
        "id": "90KFac30afLh",
        "colab_type": "code",
        "colab": {},
        "outputId": "36f90805-95b6-46a9-e65a-6aa431deb87e"
      },
      "source": [
        "t_steps = 200\n",
        "node_states, simulation_results_4fq = run_simulation(model_4fq, t_steps)"
      ],
      "execution_count": null,
      "outputs": [
        {
          "output_type": "stream",
          "text": [
            "  0%|          | 0/200 [00:00<?, ?it/s]"
          ],
          "name": "stderr"
        },
        {
          "output_type": "stream",
          "text": [
            "Running simulation for 200 steps...\n",
            "\n"
          ],
          "name": "stdout"
        },
        {
          "output_type": "stream",
          "text": [
            "100%|██████████| 200/200 [22:35<00:00,  6.78s/it] \n"
          ],
          "name": "stderr"
        }
      ]
    },
    {
      "cell_type": "code",
      "metadata": {
        "id": "2YwU2pTFafML",
        "colab_type": "code",
        "colab": {}
      },
      "source": [
        "# Model name for storage\n",
        "food_queue_number = 4\n",
        "i = 0\n",
        "fig_name = f\"MultFQ{food_queue_number}_Model{i}\"\n",
        "\n",
        "add_model_name(\"experiments/model_names.csv\", fig_name, household_weight, neighbor_weight, food_weight, transmission_rate, recovery_rate, progression_rate, hosp_rate, round(sum(crit_rate)/len(crit_rate), 3), death_rate, init_symp_cases, init_asymp_cases, t_steps)\n",
        "\t\t\t"
      ],
      "execution_count": null,
      "outputs": []
    },
    {
      "cell_type": "code",
      "metadata": {
        "id": "IXkia0RaafMl",
        "colab_type": "code",
        "colab": {}
      },
      "source": [
        "output_df = results_to_df(simulation_results_4fq, store=True, store_name=f\"experiments/results/{fig_name}.csv\")\n"
      ],
      "execution_count": null,
      "outputs": []
    },
    {
      "cell_type": "code",
      "metadata": {
        "id": "NvUjAhtHafM3",
        "colab_type": "code",
        "colab": {},
        "outputId": "aa9dc6d7-abc3-44ba-c54e-16e2cb60f765"
      },
      "source": [
        "output_df"
      ],
      "execution_count": null,
      "outputs": [
        {
          "output_type": "execute_result",
          "data": {
            "text/html": [
              "<div>\n",
              "<style scoped>\n",
              "    .dataframe tbody tr th:only-of-type {\n",
              "        vertical-align: middle;\n",
              "    }\n",
              "\n",
              "    .dataframe tbody tr th {\n",
              "        vertical-align: top;\n",
              "    }\n",
              "\n",
              "    .dataframe thead th {\n",
              "        text-align: right;\n",
              "    }\n",
              "</style>\n",
              "<table border=\"1\" class=\"dataframe\">\n",
              "  <thead>\n",
              "    <tr style=\"text-align: right;\">\n",
              "      <th></th>\n",
              "      <th>Susceptible</th>\n",
              "      <th>Exposed</th>\n",
              "      <th>Infected_Presymptomatic</th>\n",
              "      <th>Infected_Symptomatic</th>\n",
              "      <th>Infected_Asymptomatic</th>\n",
              "      <th>Hospitalized</th>\n",
              "      <th>Recovered</th>\n",
              "      <th>Fatalities</th>\n",
              "      <th>Detected_Presymptomatic</th>\n",
              "      <th>Detected_Symptomatic</th>\n",
              "      <th>Detected_Asymptomatic</th>\n",
              "      <th>T_index</th>\n",
              "      <th>Time</th>\n",
              "    </tr>\n",
              "  </thead>\n",
              "  <tbody>\n",
              "    <tr>\n",
              "      <th>0</th>\n",
              "      <td>18697.0</td>\n",
              "      <td>2.0</td>\n",
              "      <td>0.0</td>\n",
              "      <td>1.0</td>\n",
              "      <td>0.0</td>\n",
              "      <td>0.0</td>\n",
              "      <td>0.0</td>\n",
              "      <td>0.0</td>\n",
              "      <td>0.0</td>\n",
              "      <td>0.0</td>\n",
              "      <td>0.0</td>\n",
              "      <td>2</td>\n",
              "      <td>1</td>\n",
              "    </tr>\n",
              "    <tr>\n",
              "      <th>1</th>\n",
              "      <td>18696.0</td>\n",
              "      <td>3.0</td>\n",
              "      <td>0.0</td>\n",
              "      <td>1.0</td>\n",
              "      <td>0.0</td>\n",
              "      <td>0.0</td>\n",
              "      <td>0.0</td>\n",
              "      <td>0.0</td>\n",
              "      <td>0.0</td>\n",
              "      <td>0.0</td>\n",
              "      <td>0.0</td>\n",
              "      <td>3</td>\n",
              "      <td>2</td>\n",
              "    </tr>\n",
              "    <tr>\n",
              "      <th>2</th>\n",
              "      <td>18694.0</td>\n",
              "      <td>4.0</td>\n",
              "      <td>1.0</td>\n",
              "      <td>1.0</td>\n",
              "      <td>0.0</td>\n",
              "      <td>0.0</td>\n",
              "      <td>0.0</td>\n",
              "      <td>0.0</td>\n",
              "      <td>0.0</td>\n",
              "      <td>0.0</td>\n",
              "      <td>0.0</td>\n",
              "      <td>6</td>\n",
              "      <td>3</td>\n",
              "    </tr>\n",
              "    <tr>\n",
              "      <th>3</th>\n",
              "      <td>18693.0</td>\n",
              "      <td>4.0</td>\n",
              "      <td>2.0</td>\n",
              "      <td>1.0</td>\n",
              "      <td>0.0</td>\n",
              "      <td>0.0</td>\n",
              "      <td>0.0</td>\n",
              "      <td>0.0</td>\n",
              "      <td>0.0</td>\n",
              "      <td>0.0</td>\n",
              "      <td>0.0</td>\n",
              "      <td>8</td>\n",
              "      <td>4</td>\n",
              "    </tr>\n",
              "    <tr>\n",
              "      <th>4</th>\n",
              "      <td>18688.0</td>\n",
              "      <td>8.0</td>\n",
              "      <td>3.0</td>\n",
              "      <td>1.0</td>\n",
              "      <td>0.0</td>\n",
              "      <td>0.0</td>\n",
              "      <td>0.0</td>\n",
              "      <td>0.0</td>\n",
              "      <td>0.0</td>\n",
              "      <td>0.0</td>\n",
              "      <td>0.0</td>\n",
              "      <td>14</td>\n",
              "      <td>5</td>\n",
              "    </tr>\n",
              "    <tr>\n",
              "      <th>...</th>\n",
              "      <td>...</td>\n",
              "      <td>...</td>\n",
              "      <td>...</td>\n",
              "      <td>...</td>\n",
              "      <td>...</td>\n",
              "      <td>...</td>\n",
              "      <td>...</td>\n",
              "      <td>...</td>\n",
              "      <td>...</td>\n",
              "      <td>...</td>\n",
              "      <td>...</td>\n",
              "      <td>...</td>\n",
              "      <td>...</td>\n",
              "    </tr>\n",
              "    <tr>\n",
              "      <th>195</th>\n",
              "      <td>0.0</td>\n",
              "      <td>0.0</td>\n",
              "      <td>0.0</td>\n",
              "      <td>0.0</td>\n",
              "      <td>0.0</td>\n",
              "      <td>0.0</td>\n",
              "      <td>18057.0</td>\n",
              "      <td>643.0</td>\n",
              "      <td>0.0</td>\n",
              "      <td>0.0</td>\n",
              "      <td>0.0</td>\n",
              "      <td>75466</td>\n",
              "      <td>196</td>\n",
              "    </tr>\n",
              "    <tr>\n",
              "      <th>196</th>\n",
              "      <td>0.0</td>\n",
              "      <td>0.0</td>\n",
              "      <td>0.0</td>\n",
              "      <td>0.0</td>\n",
              "      <td>0.0</td>\n",
              "      <td>0.0</td>\n",
              "      <td>18057.0</td>\n",
              "      <td>643.0</td>\n",
              "      <td>0.0</td>\n",
              "      <td>0.0</td>\n",
              "      <td>0.0</td>\n",
              "      <td>75466</td>\n",
              "      <td>197</td>\n",
              "    </tr>\n",
              "    <tr>\n",
              "      <th>197</th>\n",
              "      <td>0.0</td>\n",
              "      <td>0.0</td>\n",
              "      <td>0.0</td>\n",
              "      <td>0.0</td>\n",
              "      <td>0.0</td>\n",
              "      <td>0.0</td>\n",
              "      <td>18057.0</td>\n",
              "      <td>643.0</td>\n",
              "      <td>0.0</td>\n",
              "      <td>0.0</td>\n",
              "      <td>0.0</td>\n",
              "      <td>75466</td>\n",
              "      <td>198</td>\n",
              "    </tr>\n",
              "    <tr>\n",
              "      <th>198</th>\n",
              "      <td>0.0</td>\n",
              "      <td>0.0</td>\n",
              "      <td>0.0</td>\n",
              "      <td>0.0</td>\n",
              "      <td>0.0</td>\n",
              "      <td>0.0</td>\n",
              "      <td>18057.0</td>\n",
              "      <td>643.0</td>\n",
              "      <td>0.0</td>\n",
              "      <td>0.0</td>\n",
              "      <td>0.0</td>\n",
              "      <td>75466</td>\n",
              "      <td>199</td>\n",
              "    </tr>\n",
              "    <tr>\n",
              "      <th>199</th>\n",
              "      <td>0.0</td>\n",
              "      <td>0.0</td>\n",
              "      <td>0.0</td>\n",
              "      <td>0.0</td>\n",
              "      <td>0.0</td>\n",
              "      <td>0.0</td>\n",
              "      <td>18057.0</td>\n",
              "      <td>643.0</td>\n",
              "      <td>0.0</td>\n",
              "      <td>0.0</td>\n",
              "      <td>0.0</td>\n",
              "      <td>75466</td>\n",
              "      <td>200</td>\n",
              "    </tr>\n",
              "  </tbody>\n",
              "</table>\n",
              "<p>200 rows × 13 columns</p>\n",
              "</div>"
            ],
            "text/plain": [
              "     Susceptible  Exposed  Infected_Presymptomatic  Infected_Symptomatic  \\\n",
              "0        18697.0      2.0                      0.0                   1.0   \n",
              "1        18696.0      3.0                      0.0                   1.0   \n",
              "2        18694.0      4.0                      1.0                   1.0   \n",
              "3        18693.0      4.0                      2.0                   1.0   \n",
              "4        18688.0      8.0                      3.0                   1.0   \n",
              "..           ...      ...                      ...                   ...   \n",
              "195          0.0      0.0                      0.0                   0.0   \n",
              "196          0.0      0.0                      0.0                   0.0   \n",
              "197          0.0      0.0                      0.0                   0.0   \n",
              "198          0.0      0.0                      0.0                   0.0   \n",
              "199          0.0      0.0                      0.0                   0.0   \n",
              "\n",
              "     Infected_Asymptomatic  Hospitalized  Recovered  Fatalities  \\\n",
              "0                      0.0           0.0        0.0         0.0   \n",
              "1                      0.0           0.0        0.0         0.0   \n",
              "2                      0.0           0.0        0.0         0.0   \n",
              "3                      0.0           0.0        0.0         0.0   \n",
              "4                      0.0           0.0        0.0         0.0   \n",
              "..                     ...           ...        ...         ...   \n",
              "195                    0.0           0.0    18057.0       643.0   \n",
              "196                    0.0           0.0    18057.0       643.0   \n",
              "197                    0.0           0.0    18057.0       643.0   \n",
              "198                    0.0           0.0    18057.0       643.0   \n",
              "199                    0.0           0.0    18057.0       643.0   \n",
              "\n",
              "     Detected_Presymptomatic  Detected_Symptomatic  Detected_Asymptomatic  \\\n",
              "0                        0.0                   0.0                    0.0   \n",
              "1                        0.0                   0.0                    0.0   \n",
              "2                        0.0                   0.0                    0.0   \n",
              "3                        0.0                   0.0                    0.0   \n",
              "4                        0.0                   0.0                    0.0   \n",
              "..                       ...                   ...                    ...   \n",
              "195                      0.0                   0.0                    0.0   \n",
              "196                      0.0                   0.0                    0.0   \n",
              "197                      0.0                   0.0                    0.0   \n",
              "198                      0.0                   0.0                    0.0   \n",
              "199                      0.0                   0.0                    0.0   \n",
              "\n",
              "     T_index  Time  \n",
              "0          2     1  \n",
              "1          3     2  \n",
              "2          6     3  \n",
              "3          8     4  \n",
              "4         14     5  \n",
              "..       ...   ...  \n",
              "195    75466   196  \n",
              "196    75466   197  \n",
              "197    75466   198  \n",
              "198    75466   199  \n",
              "199    75466   200  \n",
              "\n",
              "[200 rows x 13 columns]"
            ]
          },
          "metadata": {
            "tags": []
          },
          "execution_count": 32
        }
      ]
    },
    {
      "cell_type": "code",
      "metadata": {
        "id": "38IKndsoafNI",
        "colab_type": "code",
        "colab": {},
        "outputId": "9272446e-943a-4584-aa86-ec5ee88f5b26"
      },
      "source": [
        "fig, ax = model_4fq.figure_basic()#vlines=interventions.get_checkpoints()['t'])\n",
        "# fig.savefig(f\"plots/{fig_name}_figBasic.png\")"
      ],
      "execution_count": null,
      "outputs": [
        {
          "output_type": "display_data",
          "data": {
            "image/png": "[encoded data removed]",
            "text/plain": [
              "<Figure size 864x576 with 1 Axes>"
            ]
          },
          "metadata": {
            "tags": []
          }
        }
      ]
    },
    {
      "cell_type": "code",
      "metadata": {
        "id": "z0Nt9CGtafNY",
        "colab_type": "code",
        "colab": {},
        "outputId": "10231c91-e31b-4953-bdca-715276989844"
      },
      "source": [
        "t_steps = 200\n",
        "node_states, simulation_results_8fq = run_simulation(model_8fq, t_steps)"
      ],
      "execution_count": null,
      "outputs": [
        {
          "output_type": "stream",
          "text": [
            "  0%|          | 0/200 [00:00<?, ?it/s]"
          ],
          "name": "stderr"
        },
        {
          "output_type": "stream",
          "text": [
            "Running simulation for 200 steps...\n",
            "\n"
          ],
          "name": "stdout"
        },
        {
          "output_type": "stream",
          "text": [
            "100%|██████████| 200/200 [33:14<00:00,  9.97s/it]   \n"
          ],
          "name": "stderr"
        }
      ]
    },
    {
      "cell_type": "code",
      "metadata": {
        "id": "x21nrcTxafNi",
        "colab_type": "code",
        "colab": {}
      },
      "source": [
        "food_queue_number = 8\n",
        "i = 0\n",
        "fig_name = f\"MultFQ{food_queue_number}_Model{i}\"\n",
        "\n",
        "add_model_name(\"experiments/model_names.csv\", fig_name, household_weight, neighbor_weight, food_weight, transmission_rate, recovery_rate, progression_rate, hosp_rate, round(sum(crit_rate)/len(crit_rate), 3), death_rate, init_symp_cases, init_asymp_cases, t_steps)\n",
        "\t"
      ],
      "execution_count": null,
      "outputs": []
    },
    {
      "cell_type": "code",
      "metadata": {
        "id": "Bs8KgTblafNs",
        "colab_type": "code",
        "colab": {}
      },
      "source": [
        "output_df = results_to_df(simulation_results_8fq, store=True, store_name=f\"experiments/results/{fig_name}.csv\")\n"
      ],
      "execution_count": null,
      "outputs": []
    },
    {
      "cell_type": "code",
      "metadata": {
        "id": "s15xxHe0afOG",
        "colab_type": "code",
        "colab": {},
        "outputId": "4047a2c8-b7e7-485b-b6f3-603c08cc1abe"
      },
      "source": [
        "output_df"
      ],
      "execution_count": null,
      "outputs": [
        {
          "output_type": "execute_result",
          "data": {
            "text/html": [
              "<div>\n",
              "<style scoped>\n",
              "    .dataframe tbody tr th:only-of-type {\n",
              "        vertical-align: middle;\n",
              "    }\n",
              "\n",
              "    .dataframe tbody tr th {\n",
              "        vertical-align: top;\n",
              "    }\n",
              "\n",
              "    .dataframe thead th {\n",
              "        text-align: right;\n",
              "    }\n",
              "</style>\n",
              "<table border=\"1\" class=\"dataframe\">\n",
              "  <thead>\n",
              "    <tr style=\"text-align: right;\">\n",
              "      <th></th>\n",
              "      <th>Susceptible</th>\n",
              "      <th>Exposed</th>\n",
              "      <th>Infected_Presymptomatic</th>\n",
              "      <th>Infected_Symptomatic</th>\n",
              "      <th>Infected_Asymptomatic</th>\n",
              "      <th>Hospitalized</th>\n",
              "      <th>Recovered</th>\n",
              "      <th>Fatalities</th>\n",
              "      <th>Detected_Presymptomatic</th>\n",
              "      <th>Detected_Symptomatic</th>\n",
              "      <th>Detected_Asymptomatic</th>\n",
              "      <th>T_index</th>\n",
              "      <th>Time</th>\n",
              "    </tr>\n",
              "  </thead>\n",
              "  <tbody>\n",
              "    <tr>\n",
              "      <th>0</th>\n",
              "      <td>18696.0</td>\n",
              "      <td>3.0</td>\n",
              "      <td>0.0</td>\n",
              "      <td>1.0</td>\n",
              "      <td>0.0</td>\n",
              "      <td>0.0</td>\n",
              "      <td>0.0</td>\n",
              "      <td>0.0</td>\n",
              "      <td>0.0</td>\n",
              "      <td>0.0</td>\n",
              "      <td>0.0</td>\n",
              "      <td>3</td>\n",
              "      <td>1</td>\n",
              "    </tr>\n",
              "    <tr>\n",
              "      <th>1</th>\n",
              "      <td>18694.0</td>\n",
              "      <td>4.0</td>\n",
              "      <td>1.0</td>\n",
              "      <td>1.0</td>\n",
              "      <td>0.0</td>\n",
              "      <td>0.0</td>\n",
              "      <td>0.0</td>\n",
              "      <td>0.0</td>\n",
              "      <td>0.0</td>\n",
              "      <td>0.0</td>\n",
              "      <td>0.0</td>\n",
              "      <td>6</td>\n",
              "      <td>2</td>\n",
              "    </tr>\n",
              "    <tr>\n",
              "      <th>2</th>\n",
              "      <td>18693.0</td>\n",
              "      <td>5.0</td>\n",
              "      <td>1.0</td>\n",
              "      <td>1.0</td>\n",
              "      <td>0.0</td>\n",
              "      <td>0.0</td>\n",
              "      <td>0.0</td>\n",
              "      <td>0.0</td>\n",
              "      <td>0.0</td>\n",
              "      <td>0.0</td>\n",
              "      <td>0.0</td>\n",
              "      <td>7</td>\n",
              "      <td>3</td>\n",
              "    </tr>\n",
              "    <tr>\n",
              "      <th>3</th>\n",
              "      <td>18690.0</td>\n",
              "      <td>5.0</td>\n",
              "      <td>4.0</td>\n",
              "      <td>1.0</td>\n",
              "      <td>0.0</td>\n",
              "      <td>0.0</td>\n",
              "      <td>0.0</td>\n",
              "      <td>0.0</td>\n",
              "      <td>0.0</td>\n",
              "      <td>0.0</td>\n",
              "      <td>0.0</td>\n",
              "      <td>13</td>\n",
              "      <td>4</td>\n",
              "    </tr>\n",
              "    <tr>\n",
              "      <th>4</th>\n",
              "      <td>18683.0</td>\n",
              "      <td>12.0</td>\n",
              "      <td>4.0</td>\n",
              "      <td>1.0</td>\n",
              "      <td>0.0</td>\n",
              "      <td>0.0</td>\n",
              "      <td>0.0</td>\n",
              "      <td>0.0</td>\n",
              "      <td>0.0</td>\n",
              "      <td>0.0</td>\n",
              "      <td>0.0</td>\n",
              "      <td>20</td>\n",
              "      <td>5</td>\n",
              "    </tr>\n",
              "    <tr>\n",
              "      <th>...</th>\n",
              "      <td>...</td>\n",
              "      <td>...</td>\n",
              "      <td>...</td>\n",
              "      <td>...</td>\n",
              "      <td>...</td>\n",
              "      <td>...</td>\n",
              "      <td>...</td>\n",
              "      <td>...</td>\n",
              "      <td>...</td>\n",
              "      <td>...</td>\n",
              "      <td>...</td>\n",
              "      <td>...</td>\n",
              "      <td>...</td>\n",
              "    </tr>\n",
              "    <tr>\n",
              "      <th>195</th>\n",
              "      <td>0.0</td>\n",
              "      <td>0.0</td>\n",
              "      <td>0.0</td>\n",
              "      <td>0.0</td>\n",
              "      <td>0.0</td>\n",
              "      <td>0.0</td>\n",
              "      <td>18024.0</td>\n",
              "      <td>676.0</td>\n",
              "      <td>0.0</td>\n",
              "      <td>0.0</td>\n",
              "      <td>0.0</td>\n",
              "      <td>75500</td>\n",
              "      <td>196</td>\n",
              "    </tr>\n",
              "    <tr>\n",
              "      <th>196</th>\n",
              "      <td>0.0</td>\n",
              "      <td>0.0</td>\n",
              "      <td>0.0</td>\n",
              "      <td>0.0</td>\n",
              "      <td>0.0</td>\n",
              "      <td>0.0</td>\n",
              "      <td>18024.0</td>\n",
              "      <td>676.0</td>\n",
              "      <td>0.0</td>\n",
              "      <td>0.0</td>\n",
              "      <td>0.0</td>\n",
              "      <td>75500</td>\n",
              "      <td>197</td>\n",
              "    </tr>\n",
              "    <tr>\n",
              "      <th>197</th>\n",
              "      <td>0.0</td>\n",
              "      <td>0.0</td>\n",
              "      <td>0.0</td>\n",
              "      <td>0.0</td>\n",
              "      <td>0.0</td>\n",
              "      <td>0.0</td>\n",
              "      <td>18024.0</td>\n",
              "      <td>676.0</td>\n",
              "      <td>0.0</td>\n",
              "      <td>0.0</td>\n",
              "      <td>0.0</td>\n",
              "      <td>75500</td>\n",
              "      <td>198</td>\n",
              "    </tr>\n",
              "    <tr>\n",
              "      <th>198</th>\n",
              "      <td>0.0</td>\n",
              "      <td>0.0</td>\n",
              "      <td>0.0</td>\n",
              "      <td>0.0</td>\n",
              "      <td>0.0</td>\n",
              "      <td>0.0</td>\n",
              "      <td>18024.0</td>\n",
              "      <td>676.0</td>\n",
              "      <td>0.0</td>\n",
              "      <td>0.0</td>\n",
              "      <td>0.0</td>\n",
              "      <td>75500</td>\n",
              "      <td>199</td>\n",
              "    </tr>\n",
              "    <tr>\n",
              "      <th>199</th>\n",
              "      <td>0.0</td>\n",
              "      <td>0.0</td>\n",
              "      <td>0.0</td>\n",
              "      <td>0.0</td>\n",
              "      <td>0.0</td>\n",
              "      <td>0.0</td>\n",
              "      <td>18024.0</td>\n",
              "      <td>676.0</td>\n",
              "      <td>0.0</td>\n",
              "      <td>0.0</td>\n",
              "      <td>0.0</td>\n",
              "      <td>75500</td>\n",
              "      <td>200</td>\n",
              "    </tr>\n",
              "  </tbody>\n",
              "</table>\n",
              "<p>200 rows × 13 columns</p>\n",
              "</div>"
            ],
            "text/plain": [
              "     Susceptible  Exposed  Infected_Presymptomatic  Infected_Symptomatic  \\\n",
              "0        18696.0      3.0                      0.0                   1.0   \n",
              "1        18694.0      4.0                      1.0                   1.0   \n",
              "2        18693.0      5.0                      1.0                   1.0   \n",
              "3        18690.0      5.0                      4.0                   1.0   \n",
              "4        18683.0     12.0                      4.0                   1.0   \n",
              "..           ...      ...                      ...                   ...   \n",
              "195          0.0      0.0                      0.0                   0.0   \n",
              "196          0.0      0.0                      0.0                   0.0   \n",
              "197          0.0      0.0                      0.0                   0.0   \n",
              "198          0.0      0.0                      0.0                   0.0   \n",
              "199          0.0      0.0                      0.0                   0.0   \n",
              "\n",
              "     Infected_Asymptomatic  Hospitalized  Recovered  Fatalities  \\\n",
              "0                      0.0           0.0        0.0         0.0   \n",
              "1                      0.0           0.0        0.0         0.0   \n",
              "2                      0.0           0.0        0.0         0.0   \n",
              "3                      0.0           0.0        0.0         0.0   \n",
              "4                      0.0           0.0        0.0         0.0   \n",
              "..                     ...           ...        ...         ...   \n",
              "195                    0.0           0.0    18024.0       676.0   \n",
              "196                    0.0           0.0    18024.0       676.0   \n",
              "197                    0.0           0.0    18024.0       676.0   \n",
              "198                    0.0           0.0    18024.0       676.0   \n",
              "199                    0.0           0.0    18024.0       676.0   \n",
              "\n",
              "     Detected_Presymptomatic  Detected_Symptomatic  Detected_Asymptomatic  \\\n",
              "0                        0.0                   0.0                    0.0   \n",
              "1                        0.0                   0.0                    0.0   \n",
              "2                        0.0                   0.0                    0.0   \n",
              "3                        0.0                   0.0                    0.0   \n",
              "4                        0.0                   0.0                    0.0   \n",
              "..                       ...                   ...                    ...   \n",
              "195                      0.0                   0.0                    0.0   \n",
              "196                      0.0                   0.0                    0.0   \n",
              "197                      0.0                   0.0                    0.0   \n",
              "198                      0.0                   0.0                    0.0   \n",
              "199                      0.0                   0.0                    0.0   \n",
              "\n",
              "     T_index  Time  \n",
              "0          3     1  \n",
              "1          6     2  \n",
              "2          7     3  \n",
              "3         13     4  \n",
              "4         20     5  \n",
              "..       ...   ...  \n",
              "195    75500   196  \n",
              "196    75500   197  \n",
              "197    75500   198  \n",
              "198    75500   199  \n",
              "199    75500   200  \n",
              "\n",
              "[200 rows x 13 columns]"
            ]
          },
          "metadata": {
            "tags": []
          },
          "execution_count": 38
        }
      ]
    },
    {
      "cell_type": "code",
      "metadata": {
        "id": "iRo_LyLgafOZ",
        "colab_type": "code",
        "colab": {},
        "outputId": "c3e859a1-dc7e-4979-a696-6d8d092b4a0b"
      },
      "source": [
        "fig, ax = model_8fq.figure_basic()#vlines=interventions.get_checkpoints()['t'])\n",
        "# fig.savefig(f\"plots/{fig_name}_figBasic.png\")"
      ],
      "execution_count": null,
      "outputs": [
        {
          "output_type": "display_data",
          "data": {
            "image/png": "[encoded data removed]",
            "text/plain": [
              "<Figure size 864x576 with 1 Axes>"
            ]
          },
          "metadata": {
            "tags": []
          }
        }
      ]
    },
    {
      "cell_type": "markdown",
      "metadata": {
        "id": "S7s2G73UafOc",
        "colab_type": "text"
      },
      "source": [
        "#### 7.2) Running the multiple food queues model with interventions"
      ]
    },
    {
      "cell_type": "code",
      "metadata": {
        "id": "0LS61xesafOd",
        "colab_type": "code",
        "colab": {}
      },
      "source": [
        "# Model construction for multiple food queues in addition to other interventions\n",
        "interventions_model_4fq = ExtSEIRSNetworkModel(G=graph_4fq, Q=quarantine_graph_4fq, p=prob_global_contact, q=prob_quarantine_global_contact, beta=transmission_rate, sigma=progression_rate, gamma=recovery_rate, lamda=progression_rate, mu_H=crit_rate, eta=hosp_rate, a=prob_asymptomatic, f=death_rate, h=prob_symp_to_hosp, initI_sym=init_symp_cases, initI_asym=init_asymp_cases, store_Xseries=True)\n",
        "\n",
        "interventions_model_8fq = ExtSEIRSNetworkModel(G=graph_8fq, Q=quarantine_graph_8fq, p=prob_global_contact, q=prob_quarantine_global_contact, beta=transmission_rate, sigma=progression_rate, gamma=recovery_rate, lamda=progression_rate, mu_H=crit_rate, eta=hosp_rate, a=prob_asymptomatic, f=death_rate, h=prob_symp_to_hosp, initI_sym=init_symp_cases, initI_asym=init_asymp_cases, store_Xseries=True)"
      ],
      "execution_count": null,
      "outputs": []
    },
    {
      "cell_type": "code",
      "metadata": {
        "id": "DgM_pn_eafOn",
        "colab_type": "code",
        "colab": {}
      },
      "source": [
        "## Interventions for graph with 4 food queues \n",
        "interventions.clear()\n",
        "\n",
        "# Amount by which wearing masks reduces the transmission rate\n",
        "reduction_percentage = 0.3\n",
        "\n",
        "# Simulate quarantine + masks\n",
        "q_start = 0\n",
        "interventions.add(quarantine_graph_4fq, q_start, beta=transmission_rate*reduction_percentage)\n",
        "\n",
        "# Simulate HALT of quarantine but people still have to wear masks\n",
        "q_end = 150\n",
        "interventions.add(graph_4fq, q_end, beta=transmission_rate*reduction_percentage)\n",
        "\n",
        "# Simulate HALT of wearing masks\n",
        "m_end = 200\n",
        "interventions.add(graph_4fq, m_end, beta=transmission_rate)\n",
        "\n",
        "checkpoints = interventions.get_checkpoints()"
      ],
      "execution_count": null,
      "outputs": []
    },
    {
      "cell_type": "code",
      "metadata": {
        "id": "sZgpy2pnafOt",
        "colab_type": "code",
        "colab": {},
        "outputId": "6f006c02-b681-4064-e524-fc9cba120545"
      },
      "source": [
        "t_steps = 200\n",
        "node_states, intervention_results_4fq = run_simulation(interventions_model_4fq, t_steps)"
      ],
      "execution_count": null,
      "outputs": [
        {
          "output_type": "stream",
          "text": [
            "  0%|          | 0/200 [00:00<?, ?it/s]"
          ],
          "name": "stderr"
        },
        {
          "output_type": "stream",
          "text": [
            "Running simulation for 200 steps...\n",
            "\n"
          ],
          "name": "stdout"
        },
        {
          "output_type": "stream",
          "text": [
            "100%|██████████| 200/200 [26:54<00:00,  8.07s/it]  \n"
          ],
          "name": "stderr"
        }
      ]
    },
    {
      "cell_type": "code",
      "metadata": {
        "id": "zyykELdbafO5",
        "colab_type": "code",
        "colab": {}
      },
      "source": [
        "# Model name for storage - adjust accordingly to interventions\n",
        "fig_name = f\"InterventionsMultFQ{food_queue_number}_Model{i}\"\n",
        "\n",
        "add_model_name(\"experiments/model_names.csv\", fig_name, household_weight, neighbor_weight, food_weight, transmission_rate, recovery_rate, progression_rate, hosp_rate, round(sum(crit_rate)/len(crit_rate), 3), death_rate, init_symp_cases, init_asymp_cases, t_steps, f\"{q_start}-{q_end}\", reduction_percentage, f\"{q_start}-{m_end}\")\n"
      ],
      "execution_count": null,
      "outputs": []
    },
    {
      "cell_type": "code",
      "metadata": {
        "id": "lWozhg7UafO_",
        "colab_type": "code",
        "colab": {}
      },
      "source": [
        "output_df = results_to_df(intervention_results_4fq, store=True, store_name=f\"experiments/results/{fig_name}.csv\")"
      ],
      "execution_count": null,
      "outputs": []
    },
    {
      "cell_type": "code",
      "metadata": {
        "id": "gAszbrmCafPH",
        "colab_type": "code",
        "colab": {},
        "outputId": "79f225b0-3d36-4b50-d43f-b6fb13876c81"
      },
      "source": [
        "output_df"
      ],
      "execution_count": null,
      "outputs": [
        {
          "output_type": "execute_result",
          "data": {
            "text/html": [
              "<div>\n",
              "<style scoped>\n",
              "    .dataframe tbody tr th:only-of-type {\n",
              "        vertical-align: middle;\n",
              "    }\n",
              "\n",
              "    .dataframe tbody tr th {\n",
              "        vertical-align: top;\n",
              "    }\n",
              "\n",
              "    .dataframe thead th {\n",
              "        text-align: right;\n",
              "    }\n",
              "</style>\n",
              "<table border=\"1\" class=\"dataframe\">\n",
              "  <thead>\n",
              "    <tr style=\"text-align: right;\">\n",
              "      <th></th>\n",
              "      <th>Susceptible</th>\n",
              "      <th>Exposed</th>\n",
              "      <th>Infected_Presymptomatic</th>\n",
              "      <th>Infected_Symptomatic</th>\n",
              "      <th>Infected_Asymptomatic</th>\n",
              "      <th>Hospitalized</th>\n",
              "      <th>Recovered</th>\n",
              "      <th>Fatalities</th>\n",
              "      <th>Detected_Presymptomatic</th>\n",
              "      <th>Detected_Symptomatic</th>\n",
              "      <th>Detected_Asymptomatic</th>\n",
              "      <th>T_index</th>\n",
              "      <th>Time</th>\n",
              "    </tr>\n",
              "  </thead>\n",
              "  <tbody>\n",
              "    <tr>\n",
              "      <th>0</th>\n",
              "      <td>18698.0</td>\n",
              "      <td>1.0</td>\n",
              "      <td>0.0</td>\n",
              "      <td>1.0</td>\n",
              "      <td>0.0</td>\n",
              "      <td>0.0</td>\n",
              "      <td>0.0</td>\n",
              "      <td>0.0</td>\n",
              "      <td>0.0</td>\n",
              "      <td>0.0</td>\n",
              "      <td>0.0</td>\n",
              "      <td>1</td>\n",
              "      <td>1</td>\n",
              "    </tr>\n",
              "    <tr>\n",
              "      <th>1</th>\n",
              "      <td>18697.0</td>\n",
              "      <td>2.0</td>\n",
              "      <td>0.0</td>\n",
              "      <td>1.0</td>\n",
              "      <td>0.0</td>\n",
              "      <td>0.0</td>\n",
              "      <td>0.0</td>\n",
              "      <td>0.0</td>\n",
              "      <td>0.0</td>\n",
              "      <td>0.0</td>\n",
              "      <td>0.0</td>\n",
              "      <td>2</td>\n",
              "      <td>2</td>\n",
              "    </tr>\n",
              "    <tr>\n",
              "      <th>2</th>\n",
              "      <td>18696.0</td>\n",
              "      <td>3.0</td>\n",
              "      <td>0.0</td>\n",
              "      <td>1.0</td>\n",
              "      <td>0.0</td>\n",
              "      <td>0.0</td>\n",
              "      <td>0.0</td>\n",
              "      <td>0.0</td>\n",
              "      <td>0.0</td>\n",
              "      <td>0.0</td>\n",
              "      <td>0.0</td>\n",
              "      <td>3</td>\n",
              "      <td>3</td>\n",
              "    </tr>\n",
              "    <tr>\n",
              "      <th>3</th>\n",
              "      <td>18696.0</td>\n",
              "      <td>2.0</td>\n",
              "      <td>1.0</td>\n",
              "      <td>1.0</td>\n",
              "      <td>0.0</td>\n",
              "      <td>0.0</td>\n",
              "      <td>0.0</td>\n",
              "      <td>0.0</td>\n",
              "      <td>0.0</td>\n",
              "      <td>0.0</td>\n",
              "      <td>0.0</td>\n",
              "      <td>4</td>\n",
              "      <td>4</td>\n",
              "    </tr>\n",
              "    <tr>\n",
              "      <th>4</th>\n",
              "      <td>18696.0</td>\n",
              "      <td>2.0</td>\n",
              "      <td>0.0</td>\n",
              "      <td>2.0</td>\n",
              "      <td>0.0</td>\n",
              "      <td>0.0</td>\n",
              "      <td>0.0</td>\n",
              "      <td>0.0</td>\n",
              "      <td>0.0</td>\n",
              "      <td>0.0</td>\n",
              "      <td>0.0</td>\n",
              "      <td>5</td>\n",
              "      <td>5</td>\n",
              "    </tr>\n",
              "    <tr>\n",
              "      <th>...</th>\n",
              "      <td>...</td>\n",
              "      <td>...</td>\n",
              "      <td>...</td>\n",
              "      <td>...</td>\n",
              "      <td>...</td>\n",
              "      <td>...</td>\n",
              "      <td>...</td>\n",
              "      <td>...</td>\n",
              "      <td>...</td>\n",
              "      <td>...</td>\n",
              "      <td>...</td>\n",
              "      <td>...</td>\n",
              "      <td>...</td>\n",
              "    </tr>\n",
              "    <tr>\n",
              "      <th>195</th>\n",
              "      <td>0.0</td>\n",
              "      <td>0.0</td>\n",
              "      <td>0.0</td>\n",
              "      <td>0.0</td>\n",
              "      <td>0.0</td>\n",
              "      <td>0.0</td>\n",
              "      <td>18094.0</td>\n",
              "      <td>606.0</td>\n",
              "      <td>0.0</td>\n",
              "      <td>0.0</td>\n",
              "      <td>0.0</td>\n",
              "      <td>75435</td>\n",
              "      <td>196</td>\n",
              "    </tr>\n",
              "    <tr>\n",
              "      <th>196</th>\n",
              "      <td>0.0</td>\n",
              "      <td>0.0</td>\n",
              "      <td>0.0</td>\n",
              "      <td>0.0</td>\n",
              "      <td>0.0</td>\n",
              "      <td>0.0</td>\n",
              "      <td>18094.0</td>\n",
              "      <td>606.0</td>\n",
              "      <td>0.0</td>\n",
              "      <td>0.0</td>\n",
              "      <td>0.0</td>\n",
              "      <td>75435</td>\n",
              "      <td>197</td>\n",
              "    </tr>\n",
              "    <tr>\n",
              "      <th>197</th>\n",
              "      <td>0.0</td>\n",
              "      <td>0.0</td>\n",
              "      <td>0.0</td>\n",
              "      <td>0.0</td>\n",
              "      <td>0.0</td>\n",
              "      <td>0.0</td>\n",
              "      <td>18094.0</td>\n",
              "      <td>606.0</td>\n",
              "      <td>0.0</td>\n",
              "      <td>0.0</td>\n",
              "      <td>0.0</td>\n",
              "      <td>75435</td>\n",
              "      <td>198</td>\n",
              "    </tr>\n",
              "    <tr>\n",
              "      <th>198</th>\n",
              "      <td>0.0</td>\n",
              "      <td>0.0</td>\n",
              "      <td>0.0</td>\n",
              "      <td>0.0</td>\n",
              "      <td>0.0</td>\n",
              "      <td>0.0</td>\n",
              "      <td>18094.0</td>\n",
              "      <td>606.0</td>\n",
              "      <td>0.0</td>\n",
              "      <td>0.0</td>\n",
              "      <td>0.0</td>\n",
              "      <td>75435</td>\n",
              "      <td>199</td>\n",
              "    </tr>\n",
              "    <tr>\n",
              "      <th>199</th>\n",
              "      <td>0.0</td>\n",
              "      <td>0.0</td>\n",
              "      <td>0.0</td>\n",
              "      <td>0.0</td>\n",
              "      <td>0.0</td>\n",
              "      <td>0.0</td>\n",
              "      <td>18094.0</td>\n",
              "      <td>606.0</td>\n",
              "      <td>0.0</td>\n",
              "      <td>0.0</td>\n",
              "      <td>0.0</td>\n",
              "      <td>75435</td>\n",
              "      <td>200</td>\n",
              "    </tr>\n",
              "  </tbody>\n",
              "</table>\n",
              "<p>200 rows × 13 columns</p>\n",
              "</div>"
            ],
            "text/plain": [
              "     Susceptible  Exposed  Infected_Presymptomatic  Infected_Symptomatic  \\\n",
              "0        18698.0      1.0                      0.0                   1.0   \n",
              "1        18697.0      2.0                      0.0                   1.0   \n",
              "2        18696.0      3.0                      0.0                   1.0   \n",
              "3        18696.0      2.0                      1.0                   1.0   \n",
              "4        18696.0      2.0                      0.0                   2.0   \n",
              "..           ...      ...                      ...                   ...   \n",
              "195          0.0      0.0                      0.0                   0.0   \n",
              "196          0.0      0.0                      0.0                   0.0   \n",
              "197          0.0      0.0                      0.0                   0.0   \n",
              "198          0.0      0.0                      0.0                   0.0   \n",
              "199          0.0      0.0                      0.0                   0.0   \n",
              "\n",
              "     Infected_Asymptomatic  Hospitalized  Recovered  Fatalities  \\\n",
              "0                      0.0           0.0        0.0         0.0   \n",
              "1                      0.0           0.0        0.0         0.0   \n",
              "2                      0.0           0.0        0.0         0.0   \n",
              "3                      0.0           0.0        0.0         0.0   \n",
              "4                      0.0           0.0        0.0         0.0   \n",
              "..                     ...           ...        ...         ...   \n",
              "195                    0.0           0.0    18094.0       606.0   \n",
              "196                    0.0           0.0    18094.0       606.0   \n",
              "197                    0.0           0.0    18094.0       606.0   \n",
              "198                    0.0           0.0    18094.0       606.0   \n",
              "199                    0.0           0.0    18094.0       606.0   \n",
              "\n",
              "     Detected_Presymptomatic  Detected_Symptomatic  Detected_Asymptomatic  \\\n",
              "0                        0.0                   0.0                    0.0   \n",
              "1                        0.0                   0.0                    0.0   \n",
              "2                        0.0                   0.0                    0.0   \n",
              "3                        0.0                   0.0                    0.0   \n",
              "4                        0.0                   0.0                    0.0   \n",
              "..                       ...                   ...                    ...   \n",
              "195                      0.0                   0.0                    0.0   \n",
              "196                      0.0                   0.0                    0.0   \n",
              "197                      0.0                   0.0                    0.0   \n",
              "198                      0.0                   0.0                    0.0   \n",
              "199                      0.0                   0.0                    0.0   \n",
              "\n",
              "     T_index  Time  \n",
              "0          1     1  \n",
              "1          2     2  \n",
              "2          3     3  \n",
              "3          4     4  \n",
              "4          5     5  \n",
              "..       ...   ...  \n",
              "195    75435   196  \n",
              "196    75435   197  \n",
              "197    75435   198  \n",
              "198    75435   199  \n",
              "199    75435   200  \n",
              "\n",
              "[200 rows x 13 columns]"
            ]
          },
          "metadata": {
            "tags": []
          },
          "execution_count": 60
        }
      ]
    },
    {
      "cell_type": "code",
      "metadata": {
        "id": "6Jznl0eKafPS",
        "colab_type": "code",
        "colab": {},
        "outputId": "8e2cf88f-dbdc-41a9-9468-fbe730db1cda"
      },
      "source": [
        "fig, ax = interventions_model_4fq.figure_basic()#vlines=interventions.get_checkpoints()['t'])\n",
        "# fig.savefig(f\"plots/{fig_name}_figBasic.png\")"
      ],
      "execution_count": null,
      "outputs": [
        {
          "output_type": "display_data",
          "data": {
            "image/png": "[encoded data removed]",
            "text/plain": [
              "<Figure size 864x576 with 1 Axes>"
            ]
          },
          "metadata": {
            "tags": []
          }
        }
      ]
    },
    {
      "cell_type": "code",
      "metadata": {
        "id": "Qd6sgjNtafPe",
        "colab_type": "code",
        "colab": {}
      },
      "source": [
        "## Interventions for graph with 8 food queues \n",
        "interventions.clear()\n",
        "\n",
        "# Simulate quarantine + masks\n",
        "interventions.add(quarantine_graph_8fq, 3, beta=transmission_rate*reduction_percentage)\n",
        "\n",
        "# Simulate HALT of quarantine but people still have to wear masks\n",
        "interventions.add(graph_8fq, 63, beta=transmission_rate*reduction_percentage)\n",
        "\n",
        "# Simulate HALT of wearing masks\n",
        "interventions.add(graph_8fq, 93, beta=transmission_rate)\n",
        "\n",
        "checkpoints = interventions.get_checkpoints()"
      ],
      "execution_count": null,
      "outputs": []
    },
    {
      "cell_type": "code",
      "metadata": {
        "id": "2reKu5ZWafPs",
        "colab_type": "code",
        "colab": {},
        "outputId": "0c1779ec-4f1d-432f-e897-e8a49b5898fc"
      },
      "source": [
        "t_steps = 200\n",
        "node_states, interventions_results_8fq = run_simulation(interventions_model_8fq, t_steps)"
      ],
      "execution_count": null,
      "outputs": [
        {
          "output_type": "stream",
          "text": [
            "  0%|          | 0/200 [00:00<?, ?it/s]"
          ],
          "name": "stderr"
        },
        {
          "output_type": "stream",
          "text": [
            "Running simulation for 200 steps...\n",
            "\n"
          ],
          "name": "stdout"
        },
        {
          "output_type": "stream",
          "text": [
            "100%|██████████| 200/200 [1:18:36<00:00, 23.58s/it]   \n"
          ],
          "name": "stderr"
        }
      ]
    },
    {
      "cell_type": "code",
      "metadata": {
        "id": "L15dJ0VWafP3",
        "colab_type": "code",
        "colab": {}
      },
      "source": [
        "# Model name for storage - adjust accordingly to interventions\n",
        "mean_degree = round(sum([degree for node, degree in quarantine_graph_8fq.degree])/len(quarantine_graph_8fq.degree), 3) # Get the mean degree\n",
        "quarantine_duration = \"3-63\"\n",
        "\n",
        "fig_name = f\"InterventionsSympModel8FQ_HW={household_weight}_NW={neighbor_weight}_FW={food_weight}_TransR={transmission_rate}_RecR={recovery_rate}_ProgR={progression_rate}_HospR={hosp_rate}_CritRate={sum(crit_rate)/len(crit_rate)}_DeathR={death_rate}_initI_S={init_symp_cases}_initI_A={init_asymp_cases}_T={t_steps}_QDeg={mean_degree}_QDur={quarantine_duration}\""
      ],
      "execution_count": null,
      "outputs": []
    },
    {
      "cell_type": "code",
      "metadata": {
        "id": "24JXRp0aafP_",
        "colab_type": "code",
        "colab": {}
      },
      "source": [
        "output_df = results_to_df(interventions_results_8fq, store=True, store_name=f\"results/{fig_name}.csv\")"
      ],
      "execution_count": null,
      "outputs": []
    },
    {
      "cell_type": "code",
      "metadata": {
        "id": "Zo9S28YJafQH",
        "colab_type": "code",
        "colab": {},
        "outputId": "bce22ac5-9299-4045-8203-2f6ecef85d47"
      },
      "source": [
        "output_df"
      ],
      "execution_count": null,
      "outputs": [
        {
          "output_type": "execute_result",
          "data": {
            "text/html": [
              "<div>\n",
              "<style scoped>\n",
              "    .dataframe tbody tr th:only-of-type {\n",
              "        vertical-align: middle;\n",
              "    }\n",
              "\n",
              "    .dataframe tbody tr th {\n",
              "        vertical-align: top;\n",
              "    }\n",
              "\n",
              "    .dataframe thead th {\n",
              "        text-align: right;\n",
              "    }\n",
              "</style>\n",
              "<table border=\"1\" class=\"dataframe\">\n",
              "  <thead>\n",
              "    <tr style=\"text-align: right;\">\n",
              "      <th></th>\n",
              "      <th>Susceptible</th>\n",
              "      <th>Exposed</th>\n",
              "      <th>Infected_Presymptomatic</th>\n",
              "      <th>Infected_Symptomatic</th>\n",
              "      <th>Infected_Asymptomatic</th>\n",
              "      <th>Hospitalized</th>\n",
              "      <th>Recovered</th>\n",
              "      <th>Fatalities</th>\n",
              "      <th>Detected_Presymptomatic</th>\n",
              "      <th>Detected_Symptomatic</th>\n",
              "      <th>Detected_Asymptomatic</th>\n",
              "      <th>T_index</th>\n",
              "      <th>Time</th>\n",
              "    </tr>\n",
              "  </thead>\n",
              "  <tbody>\n",
              "    <tr>\n",
              "      <th>0</th>\n",
              "      <td>18697.0</td>\n",
              "      <td>1.0</td>\n",
              "      <td>1.0</td>\n",
              "      <td>1.0</td>\n",
              "      <td>0.0</td>\n",
              "      <td>0.0</td>\n",
              "      <td>0.0</td>\n",
              "      <td>0.0</td>\n",
              "      <td>0.0</td>\n",
              "      <td>0.0</td>\n",
              "      <td>0.0</td>\n",
              "      <td>3</td>\n",
              "      <td>1</td>\n",
              "    </tr>\n",
              "    <tr>\n",
              "      <th>1</th>\n",
              "      <td>18694.0</td>\n",
              "      <td>3.0</td>\n",
              "      <td>1.0</td>\n",
              "      <td>2.0</td>\n",
              "      <td>0.0</td>\n",
              "      <td>0.0</td>\n",
              "      <td>0.0</td>\n",
              "      <td>0.0</td>\n",
              "      <td>0.0</td>\n",
              "      <td>0.0</td>\n",
              "      <td>0.0</td>\n",
              "      <td>8</td>\n",
              "      <td>2</td>\n",
              "    </tr>\n",
              "    <tr>\n",
              "      <th>2</th>\n",
              "      <td>18692.0</td>\n",
              "      <td>5.0</td>\n",
              "      <td>1.0</td>\n",
              "      <td>2.0</td>\n",
              "      <td>0.0</td>\n",
              "      <td>0.0</td>\n",
              "      <td>0.0</td>\n",
              "      <td>0.0</td>\n",
              "      <td>0.0</td>\n",
              "      <td>0.0</td>\n",
              "      <td>0.0</td>\n",
              "      <td>10</td>\n",
              "      <td>3</td>\n",
              "    </tr>\n",
              "    <tr>\n",
              "      <th>3</th>\n",
              "      <td>18686.0</td>\n",
              "      <td>9.0</td>\n",
              "      <td>2.0</td>\n",
              "      <td>2.0</td>\n",
              "      <td>1.0</td>\n",
              "      <td>0.0</td>\n",
              "      <td>0.0</td>\n",
              "      <td>0.0</td>\n",
              "      <td>0.0</td>\n",
              "      <td>0.0</td>\n",
              "      <td>0.0</td>\n",
              "      <td>19</td>\n",
              "      <td>4</td>\n",
              "    </tr>\n",
              "    <tr>\n",
              "      <th>4</th>\n",
              "      <td>18683.0</td>\n",
              "      <td>11.0</td>\n",
              "      <td>3.0</td>\n",
              "      <td>2.0</td>\n",
              "      <td>1.0</td>\n",
              "      <td>0.0</td>\n",
              "      <td>0.0</td>\n",
              "      <td>0.0</td>\n",
              "      <td>0.0</td>\n",
              "      <td>0.0</td>\n",
              "      <td>0.0</td>\n",
              "      <td>23</td>\n",
              "      <td>5</td>\n",
              "    </tr>\n",
              "    <tr>\n",
              "      <th>...</th>\n",
              "      <td>...</td>\n",
              "      <td>...</td>\n",
              "      <td>...</td>\n",
              "      <td>...</td>\n",
              "      <td>...</td>\n",
              "      <td>...</td>\n",
              "      <td>...</td>\n",
              "      <td>...</td>\n",
              "      <td>...</td>\n",
              "      <td>...</td>\n",
              "      <td>...</td>\n",
              "      <td>...</td>\n",
              "      <td>...</td>\n",
              "    </tr>\n",
              "    <tr>\n",
              "      <th>195</th>\n",
              "      <td>0.0</td>\n",
              "      <td>0.0</td>\n",
              "      <td>0.0</td>\n",
              "      <td>0.0</td>\n",
              "      <td>0.0</td>\n",
              "      <td>0.0</td>\n",
              "      <td>18058.0</td>\n",
              "      <td>642.0</td>\n",
              "      <td>0.0</td>\n",
              "      <td>0.0</td>\n",
              "      <td>0.0</td>\n",
              "      <td>75470</td>\n",
              "      <td>196</td>\n",
              "    </tr>\n",
              "    <tr>\n",
              "      <th>196</th>\n",
              "      <td>0.0</td>\n",
              "      <td>0.0</td>\n",
              "      <td>0.0</td>\n",
              "      <td>0.0</td>\n",
              "      <td>0.0</td>\n",
              "      <td>0.0</td>\n",
              "      <td>18058.0</td>\n",
              "      <td>642.0</td>\n",
              "      <td>0.0</td>\n",
              "      <td>0.0</td>\n",
              "      <td>0.0</td>\n",
              "      <td>75470</td>\n",
              "      <td>197</td>\n",
              "    </tr>\n",
              "    <tr>\n",
              "      <th>197</th>\n",
              "      <td>0.0</td>\n",
              "      <td>0.0</td>\n",
              "      <td>0.0</td>\n",
              "      <td>0.0</td>\n",
              "      <td>0.0</td>\n",
              "      <td>0.0</td>\n",
              "      <td>18058.0</td>\n",
              "      <td>642.0</td>\n",
              "      <td>0.0</td>\n",
              "      <td>0.0</td>\n",
              "      <td>0.0</td>\n",
              "      <td>75470</td>\n",
              "      <td>198</td>\n",
              "    </tr>\n",
              "    <tr>\n",
              "      <th>198</th>\n",
              "      <td>0.0</td>\n",
              "      <td>0.0</td>\n",
              "      <td>0.0</td>\n",
              "      <td>0.0</td>\n",
              "      <td>0.0</td>\n",
              "      <td>0.0</td>\n",
              "      <td>18058.0</td>\n",
              "      <td>642.0</td>\n",
              "      <td>0.0</td>\n",
              "      <td>0.0</td>\n",
              "      <td>0.0</td>\n",
              "      <td>75470</td>\n",
              "      <td>199</td>\n",
              "    </tr>\n",
              "    <tr>\n",
              "      <th>199</th>\n",
              "      <td>0.0</td>\n",
              "      <td>0.0</td>\n",
              "      <td>0.0</td>\n",
              "      <td>0.0</td>\n",
              "      <td>0.0</td>\n",
              "      <td>0.0</td>\n",
              "      <td>18058.0</td>\n",
              "      <td>642.0</td>\n",
              "      <td>0.0</td>\n",
              "      <td>0.0</td>\n",
              "      <td>0.0</td>\n",
              "      <td>75470</td>\n",
              "      <td>200</td>\n",
              "    </tr>\n",
              "  </tbody>\n",
              "</table>\n",
              "<p>200 rows × 13 columns</p>\n",
              "</div>"
            ],
            "text/plain": [
              "     Susceptible  Exposed  Infected_Presymptomatic  Infected_Symptomatic  \\\n",
              "0        18697.0      1.0                      1.0                   1.0   \n",
              "1        18694.0      3.0                      1.0                   2.0   \n",
              "2        18692.0      5.0                      1.0                   2.0   \n",
              "3        18686.0      9.0                      2.0                   2.0   \n",
              "4        18683.0     11.0                      3.0                   2.0   \n",
              "..           ...      ...                      ...                   ...   \n",
              "195          0.0      0.0                      0.0                   0.0   \n",
              "196          0.0      0.0                      0.0                   0.0   \n",
              "197          0.0      0.0                      0.0                   0.0   \n",
              "198          0.0      0.0                      0.0                   0.0   \n",
              "199          0.0      0.0                      0.0                   0.0   \n",
              "\n",
              "     Infected_Asymptomatic  Hospitalized  Recovered  Fatalities  \\\n",
              "0                      0.0           0.0        0.0         0.0   \n",
              "1                      0.0           0.0        0.0         0.0   \n",
              "2                      0.0           0.0        0.0         0.0   \n",
              "3                      1.0           0.0        0.0         0.0   \n",
              "4                      1.0           0.0        0.0         0.0   \n",
              "..                     ...           ...        ...         ...   \n",
              "195                    0.0           0.0    18058.0       642.0   \n",
              "196                    0.0           0.0    18058.0       642.0   \n",
              "197                    0.0           0.0    18058.0       642.0   \n",
              "198                    0.0           0.0    18058.0       642.0   \n",
              "199                    0.0           0.0    18058.0       642.0   \n",
              "\n",
              "     Detected_Presymptomatic  Detected_Symptomatic  Detected_Asymptomatic  \\\n",
              "0                        0.0                   0.0                    0.0   \n",
              "1                        0.0                   0.0                    0.0   \n",
              "2                        0.0                   0.0                    0.0   \n",
              "3                        0.0                   0.0                    0.0   \n",
              "4                        0.0                   0.0                    0.0   \n",
              "..                       ...                   ...                    ...   \n",
              "195                      0.0                   0.0                    0.0   \n",
              "196                      0.0                   0.0                    0.0   \n",
              "197                      0.0                   0.0                    0.0   \n",
              "198                      0.0                   0.0                    0.0   \n",
              "199                      0.0                   0.0                    0.0   \n",
              "\n",
              "     T_index  Time  \n",
              "0          3     1  \n",
              "1          8     2  \n",
              "2         10     3  \n",
              "3         19     4  \n",
              "4         23     5  \n",
              "..       ...   ...  \n",
              "195    75470   196  \n",
              "196    75470   197  \n",
              "197    75470   198  \n",
              "198    75470   199  \n",
              "199    75470   200  \n",
              "\n",
              "[200 rows x 13 columns]"
            ]
          },
          "metadata": {
            "tags": []
          },
          "execution_count": 67
        }
      ]
    },
    {
      "cell_type": "code",
      "metadata": {
        "id": "syH5NQ2mafQQ",
        "colab_type": "code",
        "colab": {},
        "outputId": "b61aa5f0-ff53-4ed9-b9e1-7b5314cdaa4b"
      },
      "source": [
        "fig, ax = interventions_model_8fq.figure_basic()#vlines=interventions.get_checkpoints()['t'])\n",
        "fig.savefig(f\"plots/{fig_name}_figBasic.png\")"
      ],
      "execution_count": null,
      "outputs": [
        {
          "output_type": "display_data",
          "data": {
            "image/png": "[encoded data removed]",
            "text/plain": [
              "<Figure size 864x576 with 1 Axes>"
            ]
          },
          "metadata": {
            "tags": []
          }
        }
      ]
    },
    {
      "cell_type": "code",
      "metadata": {
        "id": "EZHK6vGeafQW",
        "colab_type": "code",
        "colab": {}
      },
      "source": [
        ""
      ],
      "execution_count": null,
      "outputs": []
    },
    {
      "cell_type": "code",
      "metadata": {
        "id": "fP8rsLmhafQa",
        "colab_type": "code",
        "colab": {}
      },
      "source": [
        ""
      ],
      "execution_count": null,
      "outputs": []
    }
  ]
}